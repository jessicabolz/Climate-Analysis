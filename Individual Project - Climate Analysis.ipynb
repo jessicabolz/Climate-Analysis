{
 "cells": [
  {
   "cell_type": "markdown",
   "metadata": {},
   "source": [
    "#  Climate Analysis\n",
    "### Jessica Bolz"
   ]
  },
  {
   "cell_type": "markdown",
   "metadata": {},
   "source": [
    "###  I am concerned about climate change, so I'd like to see if there is a measureable shift in weather patterns in the US as predicted by climate models.  Climate change is an existential crisis that our society has never before faced.  It is a threat to the planet and to human civilization in the near term.  It's important to validate the climate models in order to design resiliancy into response, planning, and preparation for our communities.  I'll be analyzing US tornado, precipitation, and temperature data.  I'll also compare a more densely populated region to a less densely populated region to see if the carbon footprint on the former is greater."
   ]
  },
  {
   "cell_type": "markdown",
   "metadata": {},
   "source": [
    "#  Part I: Analysis of Tornado Data for US from 1950 to 2018\n",
    "##  Data Source:  https://www.spc.noaa.gov/wcm/#data  (bottom of the page is a file called 1950-2018_all_tornadoes.csv"
   ]
  },
  {
   "cell_type": "markdown",
   "metadata": {},
   "source": [
    "   ## Step 1:  Import libraries, read the file, and get a feel for the data"
   ]
  },
  {
   "cell_type": "code",
   "execution_count": 46,
   "metadata": {},
   "outputs": [],
   "source": [
    "# Import libraries\n",
    "\n",
    "import matplotlib.pyplot as plt     \n",
    "import pandas as pd\n",
    "import numpy as np\n",
    "import os \n",
    "\n"
   ]
  },
  {
   "cell_type": "code",
   "execution_count": 47,
   "metadata": {},
   "outputs": [
    {
     "data": {
      "text/plain": [
       "'C:\\\\Users\\\\bolzj'"
      ]
     },
     "execution_count": 47,
     "metadata": {},
     "output_type": "execute_result"
    }
   ],
   "source": [
    "# Check directory\n",
    "\n",
    "os.getcwd()"
   ]
  },
  {
   "cell_type": "code",
   "execution_count": 48,
   "metadata": {},
   "outputs": [
    {
     "data": {
      "text/plain": [
       "(64825, 29)"
      ]
     },
     "execution_count": 48,
     "metadata": {},
     "output_type": "execute_result"
    }
   ],
   "source": [
    "\n",
    "\n",
    "df=pd.read_csv('1950-2018_all_tornadoes.csv')       # Read the tornado data file into python data frame\n",
    "\n",
    "df.shape                                            # Find out the number of rows/observations and columns/variables\n",
    "\n"
   ]
  },
  {
   "cell_type": "code",
   "execution_count": 49,
   "metadata": {
    "scrolled": true
   },
   "outputs": [
    {
     "data": {
      "text/html": [
       "<div>\n",
       "<style scoped>\n",
       "    .dataframe tbody tr th:only-of-type {\n",
       "        vertical-align: middle;\n",
       "    }\n",
       "\n",
       "    .dataframe tbody tr th {\n",
       "        vertical-align: top;\n",
       "    }\n",
       "\n",
       "    .dataframe thead th {\n",
       "        text-align: right;\n",
       "    }\n",
       "</style>\n",
       "<table border=\"1\" class=\"dataframe\">\n",
       "  <thead>\n",
       "    <tr style=\"text-align: right;\">\n",
       "      <th></th>\n",
       "      <th>om</th>\n",
       "      <th>yr</th>\n",
       "      <th>mo</th>\n",
       "      <th>dy</th>\n",
       "      <th>date</th>\n",
       "      <th>time</th>\n",
       "      <th>tz</th>\n",
       "      <th>st</th>\n",
       "      <th>stf</th>\n",
       "      <th>stn</th>\n",
       "      <th>...</th>\n",
       "      <th>len</th>\n",
       "      <th>wid</th>\n",
       "      <th>ns</th>\n",
       "      <th>sn</th>\n",
       "      <th>sg</th>\n",
       "      <th>f1</th>\n",
       "      <th>f2</th>\n",
       "      <th>f3</th>\n",
       "      <th>f4</th>\n",
       "      <th>fc</th>\n",
       "    </tr>\n",
       "  </thead>\n",
       "  <tbody>\n",
       "    <tr>\n",
       "      <th>0</th>\n",
       "      <td>1</td>\n",
       "      <td>1950</td>\n",
       "      <td>1</td>\n",
       "      <td>3</td>\n",
       "      <td>1950-01-03</td>\n",
       "      <td>11:00:00</td>\n",
       "      <td>3</td>\n",
       "      <td>MO</td>\n",
       "      <td>29</td>\n",
       "      <td>1</td>\n",
       "      <td>...</td>\n",
       "      <td>9.5</td>\n",
       "      <td>150</td>\n",
       "      <td>2</td>\n",
       "      <td>0</td>\n",
       "      <td>1</td>\n",
       "      <td>0</td>\n",
       "      <td>0</td>\n",
       "      <td>0</td>\n",
       "      <td>0</td>\n",
       "      <td>0</td>\n",
       "    </tr>\n",
       "    <tr>\n",
       "      <th>1</th>\n",
       "      <td>1</td>\n",
       "      <td>1950</td>\n",
       "      <td>1</td>\n",
       "      <td>3</td>\n",
       "      <td>1950-01-03</td>\n",
       "      <td>11:00:00</td>\n",
       "      <td>3</td>\n",
       "      <td>MO</td>\n",
       "      <td>29</td>\n",
       "      <td>1</td>\n",
       "      <td>...</td>\n",
       "      <td>6.2</td>\n",
       "      <td>150</td>\n",
       "      <td>2</td>\n",
       "      <td>1</td>\n",
       "      <td>2</td>\n",
       "      <td>189</td>\n",
       "      <td>0</td>\n",
       "      <td>0</td>\n",
       "      <td>0</td>\n",
       "      <td>0</td>\n",
       "    </tr>\n",
       "    <tr>\n",
       "      <th>2</th>\n",
       "      <td>1</td>\n",
       "      <td>1950</td>\n",
       "      <td>1</td>\n",
       "      <td>3</td>\n",
       "      <td>1950-01-03</td>\n",
       "      <td>11:10:00</td>\n",
       "      <td>3</td>\n",
       "      <td>IL</td>\n",
       "      <td>17</td>\n",
       "      <td>1</td>\n",
       "      <td>...</td>\n",
       "      <td>3.3</td>\n",
       "      <td>100</td>\n",
       "      <td>2</td>\n",
       "      <td>1</td>\n",
       "      <td>2</td>\n",
       "      <td>119</td>\n",
       "      <td>0</td>\n",
       "      <td>0</td>\n",
       "      <td>0</td>\n",
       "      <td>0</td>\n",
       "    </tr>\n",
       "    <tr>\n",
       "      <th>3</th>\n",
       "      <td>2</td>\n",
       "      <td>1950</td>\n",
       "      <td>1</td>\n",
       "      <td>3</td>\n",
       "      <td>1950-01-03</td>\n",
       "      <td>11:55:00</td>\n",
       "      <td>3</td>\n",
       "      <td>IL</td>\n",
       "      <td>17</td>\n",
       "      <td>2</td>\n",
       "      <td>...</td>\n",
       "      <td>3.6</td>\n",
       "      <td>130</td>\n",
       "      <td>1</td>\n",
       "      <td>1</td>\n",
       "      <td>1</td>\n",
       "      <td>135</td>\n",
       "      <td>0</td>\n",
       "      <td>0</td>\n",
       "      <td>0</td>\n",
       "      <td>0</td>\n",
       "    </tr>\n",
       "    <tr>\n",
       "      <th>4</th>\n",
       "      <td>3</td>\n",
       "      <td>1950</td>\n",
       "      <td>1</td>\n",
       "      <td>3</td>\n",
       "      <td>1950-01-03</td>\n",
       "      <td>16:00:00</td>\n",
       "      <td>3</td>\n",
       "      <td>OH</td>\n",
       "      <td>39</td>\n",
       "      <td>1</td>\n",
       "      <td>...</td>\n",
       "      <td>0.1</td>\n",
       "      <td>10</td>\n",
       "      <td>1</td>\n",
       "      <td>1</td>\n",
       "      <td>1</td>\n",
       "      <td>161</td>\n",
       "      <td>0</td>\n",
       "      <td>0</td>\n",
       "      <td>0</td>\n",
       "      <td>0</td>\n",
       "    </tr>\n",
       "  </tbody>\n",
       "</table>\n",
       "<p>5 rows × 29 columns</p>\n",
       "</div>"
      ],
      "text/plain": [
       "   om    yr  mo  dy        date      time  tz  st  stf  stn  ...  len  wid  \\\n",
       "0   1  1950   1   3  1950-01-03  11:00:00   3  MO   29    1  ...  9.5  150   \n",
       "1   1  1950   1   3  1950-01-03  11:00:00   3  MO   29    1  ...  6.2  150   \n",
       "2   1  1950   1   3  1950-01-03  11:10:00   3  IL   17    1  ...  3.3  100   \n",
       "3   2  1950   1   3  1950-01-03  11:55:00   3  IL   17    2  ...  3.6  130   \n",
       "4   3  1950   1   3  1950-01-03  16:00:00   3  OH   39    1  ...  0.1   10   \n",
       "\n",
       "   ns  sn  sg   f1  f2  f3  f4  fc  \n",
       "0   2   0   1    0   0   0   0   0  \n",
       "1   2   1   2  189   0   0   0   0  \n",
       "2   2   1   2  119   0   0   0   0  \n",
       "3   1   1   1  135   0   0   0   0  \n",
       "4   1   1   1  161   0   0   0   0  \n",
       "\n",
       "[5 rows x 29 columns]"
      ]
     },
     "execution_count": 49,
     "metadata": {},
     "output_type": "execute_result"
    }
   ],
   "source": [
    "df.head()                                          # Display the first five rows"
   ]
  },
  {
   "cell_type": "code",
   "execution_count": 50,
   "metadata": {},
   "outputs": [
    {
     "data": {
      "text/plain": [
       "0    TX\n",
       "dtype: object"
      ]
     },
     "execution_count": 50,
     "metadata": {},
     "output_type": "execute_result"
    }
   ],
   "source": [
    "df['st'].mode()                                 # Which state has had the most tornadoes"
   ]
  },
  {
   "cell_type": "code",
   "execution_count": 51,
   "metadata": {},
   "outputs": [
    {
     "name": "stdout",
     "output_type": "stream",
     "text": [
      "om\n",
      "yr\n",
      "mo\n",
      "dy\n",
      "date\n",
      "time\n",
      "tz\n",
      "st\n",
      "stf\n",
      "stn\n",
      "mag\n",
      "inj\n",
      "fat\n",
      "loss\n",
      "closs\n",
      "slat\n",
      "slon\n",
      "elat\n",
      "elon\n",
      "len\n",
      "wid\n",
      "ns\n",
      "sn\n",
      "sg\n",
      "f1\n",
      "f2\n",
      "f3\n",
      "f4\n",
      "fc\n"
     ]
    }
   ],
   "source": [
    "for col in df.columns:                           # Display variable names\n",
    "    print(col)"
   ]
  },
  {
   "cell_type": "markdown",
   "metadata": {},
   "source": [
    "## Step 2:  Modify the dataframe to desired fields"
   ]
  },
  {
   "cell_type": "markdown",
   "metadata": {},
   "source": [
    "### Important Fields\n",
    "\n",
    "### After analyzing the documentation that accompany the data file, only the following variables will be kept:\n",
    "\n",
    "1.  yr:  year\n",
    "2.  mo:  month\n",
    "3.  st:  state\n",
    "4.  mag:  F-scale (tornado intensity rating on 0 to 5 scale, -9 if unknown)\n",
    "5.  inj:  injuries\n",
    "6.  fat:  fatalities\n",
    "7.  loss:  prior to 1996, estimated property loss on a 1 to 9 scale:  \n",
    "            0/blank= unknown \n",
    "            1= less than $50\n",
    "            2= between $50 and $500\n",
    "            3= between $500 and $5,000\n",
    "            4= between $5,000 and $50,000\n",
    "            5= between $50,000 and $500,000\n",
    "            6= between $500,000 and $5,000,000\n",
    "            7= between $5,000,000 and $50,000,000\n",
    "            8= between $50,000,000 and $500,000,000\n",
    "            9= $5,000,000,000\n",
    "            \n",
    "            from 1996 on, listed in millions of dollars, 0/blank=unknown\n",
    "8.  closs:  crop loss in millions of dollars\n",
    "9.  len:  length in miles\n",
    "10.  wid:  width in yds"
   ]
  },
  {
   "cell_type": "code",
   "execution_count": 52,
   "metadata": {},
   "outputs": [
    {
     "data": {
      "text/html": [
       "<div>\n",
       "<style scoped>\n",
       "    .dataframe tbody tr th:only-of-type {\n",
       "        vertical-align: middle;\n",
       "    }\n",
       "\n",
       "    .dataframe tbody tr th {\n",
       "        vertical-align: top;\n",
       "    }\n",
       "\n",
       "    .dataframe thead th {\n",
       "        text-align: right;\n",
       "    }\n",
       "</style>\n",
       "<table border=\"1\" class=\"dataframe\">\n",
       "  <thead>\n",
       "    <tr style=\"text-align: right;\">\n",
       "      <th></th>\n",
       "      <th>yr</th>\n",
       "      <th>mo</th>\n",
       "      <th>st</th>\n",
       "      <th>mag</th>\n",
       "      <th>inj</th>\n",
       "      <th>fat</th>\n",
       "      <th>loss</th>\n",
       "      <th>closs</th>\n",
       "      <th>len</th>\n",
       "      <th>wid</th>\n",
       "    </tr>\n",
       "  </thead>\n",
       "  <tbody>\n",
       "    <tr>\n",
       "      <th>0</th>\n",
       "      <td>1950</td>\n",
       "      <td>1</td>\n",
       "      <td>MO</td>\n",
       "      <td>3</td>\n",
       "      <td>3</td>\n",
       "      <td>0</td>\n",
       "      <td>6.0</td>\n",
       "      <td>0.0</td>\n",
       "      <td>9.5</td>\n",
       "      <td>150</td>\n",
       "    </tr>\n",
       "    <tr>\n",
       "      <th>1</th>\n",
       "      <td>1950</td>\n",
       "      <td>1</td>\n",
       "      <td>MO</td>\n",
       "      <td>3</td>\n",
       "      <td>3</td>\n",
       "      <td>0</td>\n",
       "      <td>6.0</td>\n",
       "      <td>0.0</td>\n",
       "      <td>6.2</td>\n",
       "      <td>150</td>\n",
       "    </tr>\n",
       "    <tr>\n",
       "      <th>2</th>\n",
       "      <td>1950</td>\n",
       "      <td>1</td>\n",
       "      <td>IL</td>\n",
       "      <td>3</td>\n",
       "      <td>0</td>\n",
       "      <td>0</td>\n",
       "      <td>5.0</td>\n",
       "      <td>0.0</td>\n",
       "      <td>3.3</td>\n",
       "      <td>100</td>\n",
       "    </tr>\n",
       "    <tr>\n",
       "      <th>3</th>\n",
       "      <td>1950</td>\n",
       "      <td>1</td>\n",
       "      <td>IL</td>\n",
       "      <td>3</td>\n",
       "      <td>3</td>\n",
       "      <td>0</td>\n",
       "      <td>5.0</td>\n",
       "      <td>0.0</td>\n",
       "      <td>3.6</td>\n",
       "      <td>130</td>\n",
       "    </tr>\n",
       "    <tr>\n",
       "      <th>4</th>\n",
       "      <td>1950</td>\n",
       "      <td>1</td>\n",
       "      <td>OH</td>\n",
       "      <td>1</td>\n",
       "      <td>1</td>\n",
       "      <td>0</td>\n",
       "      <td>4.0</td>\n",
       "      <td>0.0</td>\n",
       "      <td>0.1</td>\n",
       "      <td>10</td>\n",
       "    </tr>\n",
       "  </tbody>\n",
       "</table>\n",
       "</div>"
      ],
      "text/plain": [
       "     yr  mo  st  mag  inj  fat  loss  closs  len  wid\n",
       "0  1950   1  MO    3    3    0   6.0    0.0  9.5  150\n",
       "1  1950   1  MO    3    3    0   6.0    0.0  6.2  150\n",
       "2  1950   1  IL    3    0    0   5.0    0.0  3.3  100\n",
       "3  1950   1  IL    3    3    0   5.0    0.0  3.6  130\n",
       "4  1950   1  OH    1    1    0   4.0    0.0  0.1   10"
      ]
     },
     "execution_count": 52,
     "metadata": {},
     "output_type": "execute_result"
    }
   ],
   "source": [
    "tornado_df=pd.read_csv('1950-2018_all_tornadoes.csv', usecols=[              # make a new df with chosen variables only\n",
    "    'yr','mo','st','mag','inj','fat','loss','closs','len','wid'])\n",
    "tornado_df.head()"
   ]
  },
  {
   "cell_type": "markdown",
   "metadata": {},
   "source": [
    "## Step 3:  Find the number of tornadoes per decade to see if there is an increase"
   ]
  },
  {
   "cell_type": "markdown",
   "metadata": {},
   "source": [
    "### 3.1  Make a dataframe for decade and number of tornadoes"
   ]
  },
  {
   "cell_type": "code",
   "execution_count": 53,
   "metadata": {},
   "outputs": [
    {
     "data": {
      "text/html": [
       "<div>\n",
       "<style scoped>\n",
       "    .dataframe tbody tr th:only-of-type {\n",
       "        vertical-align: middle;\n",
       "    }\n",
       "\n",
       "    .dataframe tbody tr th {\n",
       "        vertical-align: top;\n",
       "    }\n",
       "\n",
       "    .dataframe thead th {\n",
       "        text-align: right;\n",
       "    }\n",
       "</style>\n",
       "<table border=\"1\" class=\"dataframe\">\n",
       "  <thead>\n",
       "    <tr style=\"text-align: right;\">\n",
       "      <th></th>\n",
       "      <th>Decade</th>\n",
       "      <th>Number of Tornadoes</th>\n",
       "    </tr>\n",
       "  </thead>\n",
       "  <tbody>\n",
       "    <tr>\n",
       "      <th>0</th>\n",
       "      <td>1950s</td>\n",
       "      <td>4905</td>\n",
       "    </tr>\n",
       "    <tr>\n",
       "      <th>1</th>\n",
       "      <td>1960s</td>\n",
       "      <td>6938</td>\n",
       "    </tr>\n",
       "    <tr>\n",
       "      <th>2</th>\n",
       "      <td>1970s</td>\n",
       "      <td>8711</td>\n",
       "    </tr>\n",
       "    <tr>\n",
       "      <th>3</th>\n",
       "      <td>1980s</td>\n",
       "      <td>8312</td>\n",
       "    </tr>\n",
       "    <tr>\n",
       "      <th>4</th>\n",
       "      <td>1990s</td>\n",
       "      <td>12276</td>\n",
       "    </tr>\n",
       "    <tr>\n",
       "      <th>5</th>\n",
       "      <td>2000s</td>\n",
       "      <td>12970</td>\n",
       "    </tr>\n",
       "    <tr>\n",
       "      <th>6</th>\n",
       "      <td>2010s</td>\n",
       "      <td>10713</td>\n",
       "    </tr>\n",
       "  </tbody>\n",
       "</table>\n",
       "</div>"
      ],
      "text/plain": [
       "  Decade  Number of Tornadoes\n",
       "0  1950s                 4905\n",
       "1  1960s                 6938\n",
       "2  1970s                 8711\n",
       "3  1980s                 8312\n",
       "4  1990s                12276\n",
       "5  2000s                12970\n",
       "6  2010s                10713"
      ]
     },
     "execution_count": 53,
     "metadata": {},
     "output_type": "execute_result"
    }
   ],
   "source": [
    "# Find the number of tornadoes in each decade using count method   \n",
    "\n",
    "ct_fif=tornado_df['yr'].loc[tornado_df['yr']<1960].count()\n",
    "ct_six=tornado_df['yr'].loc[(tornado_df['yr']>=1960)&(tornado_df['yr']<1970)].count()    \n",
    "ct_sev=tornado_df['yr'].loc[(tornado_df['yr']>=1970)&(tornado_df['yr']<1980)].count()\n",
    "ct_eig=tornado_df['yr'].loc[(tornado_df['yr']>=1980)&(tornado_df['yr']<1990)].count()\n",
    "ct_nin=tornado_df['yr'].loc[(tornado_df['yr']>=1990)&(tornado_df['yr']<2000)].count()\n",
    "ct_nau=tornado_df['yr'].loc[(tornado_df['yr']>=2000)&(tornado_df['yr']<2010)].count()\n",
    "ct_ten=tornado_df['yr'].loc[(tornado_df['yr']>=2010)&(tornado_df['yr']<2020)].count()\n",
    "\n",
    "\n",
    "# Make a dictionary connecting counts to decade names\n",
    "\n",
    "d={'Decade':['1950s', '1960s', '1970s', '1980s', '1990s','2000s','2010s'], 'Number of Tornadoes':[\n",
    "    ct_fif, ct_six, ct_sev, ct_eig, ct_nin, ct_nau, ct_ten]}\n",
    "\n",
    "# Change the dictionary to a dataframe for analysis\n",
    "\n",
    "tornado_decade = pd.DataFrame(data=d)\n",
    "tornado_decade\n",
    "\n",
    "\n",
    "\n"
   ]
  },
  {
   "cell_type": "markdown",
   "metadata": {},
   "source": [
    "### 3.2 Visualize the data"
   ]
  },
  {
   "cell_type": "code",
   "execution_count": 54,
   "metadata": {},
   "outputs": [
    {
     "name": "stderr",
     "output_type": "stream",
     "text": [
      "<ipython-input-54-c6a80d6eb617>:18: UserWarning: Matplotlib is currently using module://ipykernel.pylab.backend_inline, which is a non-GUI backend, so cannot show the figure.\n",
      "  fig.show()\n"
     ]
    },
    {
     "data": {
      "image/png": "[encoded data removed]",
      "text/plain": [
       "<Figure size 864x576 with 2 Axes>"
      ]
     },
     "metadata": {
      "needs_background": "light"
     },
     "output_type": "display_data"
    }
   ],
   "source": [
    "# Set up how plots will be arranged\n",
    "\n",
    "fig, ax_list = plt.subplots(2,1,figsize=(12,8))\n",
    "\n",
    "\n",
    "# Make a bar plot of the data\n",
    "\n",
    "ax_list[0].bar(tornado_decade[\"Decade\"], tornado_decade[\"Number of Tornadoes\"])   \n",
    "ax_list[0].set_title(\"Number of Tornadoes per Decade Since 1950\")\n",
    "ax_list[0].set_ylabel(\"Number of Tornadoes\")\n",
    "\n",
    "# Make a line plot of the data\n",
    "\n",
    "ax_list[1].plot(tornado_decade[\"Decade\"], tornado_decade[\"Number of Tornadoes\"])  \n",
    "ax_list[1].set_xlabel(\"Decade\")\n",
    "ax_list[1].set_ylabel(\"Number of Tornados\")\n",
    "\n",
    "fig.show()\n"
   ]
  },
  {
   "cell_type": "markdown",
   "metadata": {},
   "source": [
    "### Observation:  There certainly seems to be an increase in the number of tornadoes since the fifties!  The decrease in 2010s is promising.  If the overall increase is due to carbon emissions, perhaps regulations put in place in the 2000s is making an impact."
   ]
  },
  {
   "cell_type": "markdown",
   "metadata": {},
   "source": [
    "## Step 4:  See if there is an increase in the number of injuries and fatalities over time"
   ]
  },
  {
   "cell_type": "markdown",
   "metadata": {},
   "source": [
    "### 4.1 Make a dataframe for decade and number of injuries and fatalities"
   ]
  },
  {
   "cell_type": "code",
   "execution_count": 55,
   "metadata": {},
   "outputs": [
    {
     "data": {
      "text/html": [
       "<div>\n",
       "<style scoped>\n",
       "    .dataframe tbody tr th:only-of-type {\n",
       "        vertical-align: middle;\n",
       "    }\n",
       "\n",
       "    .dataframe tbody tr th {\n",
       "        vertical-align: top;\n",
       "    }\n",
       "\n",
       "    .dataframe thead th {\n",
       "        text-align: right;\n",
       "    }\n",
       "</style>\n",
       "<table border=\"1\" class=\"dataframe\">\n",
       "  <thead>\n",
       "    <tr style=\"text-align: right;\">\n",
       "      <th></th>\n",
       "      <th>Decade</th>\n",
       "      <th>Number of Injuries and Fatalities</th>\n",
       "    </tr>\n",
       "  </thead>\n",
       "  <tbody>\n",
       "    <tr>\n",
       "      <th>0</th>\n",
       "      <td>1950s</td>\n",
       "      <td>18280</td>\n",
       "    </tr>\n",
       "    <tr>\n",
       "      <th>1</th>\n",
       "      <td>1960s</td>\n",
       "      <td>20174</td>\n",
       "    </tr>\n",
       "    <tr>\n",
       "      <th>2</th>\n",
       "      <td>1970s</td>\n",
       "      <td>27466</td>\n",
       "    </tr>\n",
       "    <tr>\n",
       "      <th>3</th>\n",
       "      <td>1980s</td>\n",
       "      <td>13497</td>\n",
       "    </tr>\n",
       "    <tr>\n",
       "      <th>4</th>\n",
       "      <td>1990s</td>\n",
       "      <td>12746</td>\n",
       "    </tr>\n",
       "    <tr>\n",
       "      <th>5</th>\n",
       "      <td>2000s</td>\n",
       "      <td>10076</td>\n",
       "    </tr>\n",
       "    <tr>\n",
       "      <th>6</th>\n",
       "      <td>2010s</td>\n",
       "      <td>12861</td>\n",
       "    </tr>\n",
       "  </tbody>\n",
       "</table>\n",
       "</div>"
      ],
      "text/plain": [
       "  Decade  Number of Injuries and Fatalities\n",
       "0  1950s                              18280\n",
       "1  1960s                              20174\n",
       "2  1970s                              27466\n",
       "3  1980s                              13497\n",
       "4  1990s                              12746\n",
       "5  2000s                              10076\n",
       "6  2010s                              12861"
      ]
     },
     "execution_count": 55,
     "metadata": {},
     "output_type": "execute_result"
    }
   ],
   "source": [
    "# Find the number of injuries and fatalities per decade using the sum method  \n",
    "\n",
    "inj_fat5=(tornado_df['inj'].loc[tornado_df['yr']<1960].sum(axis=0))+(tornado_df['fat'].loc[tornado_df['yr']<1960].sum(axis=0))\n",
    "inj_fat6=(tornado_df['inj'].loc[(tornado_df['yr']>=1960)&(tornado_df['yr']<1970)].sum(axis=0)) + (tornado_df['fat'].loc[\n",
    "    (tornado_df['yr']>=1960)&(tornado_df['yr']<1970)].sum(axis=0))\n",
    "inj_fat7=(tornado_df['inj'].loc[(tornado_df['yr']>=1970)&(tornado_df['yr']<1980)].sum(axis=0)) + (tornado_df['fat'].loc[\n",
    "    (tornado_df['yr']>=1970)&(tornado_df['yr']<1980)].sum(axis=0))\n",
    "inj_fat8=(tornado_df['inj'].loc[(tornado_df['yr']>=1980)&(tornado_df['yr']<1990)].sum(axis=0)) + (tornado_df['fat'].loc[\n",
    "    (tornado_df['yr']>=1980)&(tornado_df['yr']<1990)].sum(axis=0))\n",
    "inj_fat9=(tornado_df['inj'].loc[(tornado_df['yr']>=1990)&(tornado_df['yr']<2000)].sum(axis=0)) + (tornado_df['fat'].loc[\n",
    "    (tornado_df['yr']>=1990)&(tornado_df['yr']<2000)].sum(axis=0))\n",
    "inj_fat0=(tornado_df['inj'].loc[(tornado_df['yr']>=2000)&(tornado_df['yr']<2010)].sum(axis=0)) + (tornado_df['fat'].loc[\n",
    "    (tornado_df['yr']>=2000)&(tornado_df['yr']<2010)].sum(axis=0))\n",
    "inj_fat1=(tornado_df['inj'].loc[(tornado_df['yr']>=2010)&(tornado_df['yr']<2020)].sum(axis=0)) + (tornado_df['fat'].loc[\n",
    "    (tornado_df['yr']>=2010)&(tornado_df['yr']<2020)].sum(axis=0))\n",
    "\n",
    "\n",
    "# Make a dictionary connecting injury/fatality sum to decade\n",
    "\n",
    "d1={'Decade':['1950s', '1960s', '1970s', '1980s', '1990s','2000s','2010s'], 'Number of Injuries and Fatalities':[inj_fat5, inj_fat6, inj_fat7, inj_fat8, inj_fat9, inj_fat0, inj_fat1]}\n",
    "\n",
    "\n",
    "# Change the dictionary to a dataframe for analysis\n",
    "\n",
    "tornado_injfat_decade = pd.DataFrame(data=d1)\n",
    "tornado_injfat_decade\n"
   ]
  },
  {
   "cell_type": "markdown",
   "metadata": {},
   "source": [
    "### 4.2 Visualize the data"
   ]
  },
  {
   "cell_type": "code",
   "execution_count": 56,
   "metadata": {},
   "outputs": [
    {
     "name": "stderr",
     "output_type": "stream",
     "text": [
      "<ipython-input-56-f5d9d393a17c>:19: UserWarning: Matplotlib is currently using module://ipykernel.pylab.backend_inline, which is a non-GUI backend, so cannot show the figure.\n",
      "  fig.show()\n"
     ]
    },
    {
     "data": {
      "image/png": "[encoded data removed]",
      "text/plain": [
       "<Figure size 864x576 with 2 Axes>"
      ]
     },
     "metadata": {
      "needs_background": "light"
     },
     "output_type": "display_data"
    }
   ],
   "source": [
    "# Set up how plots will be arranged\n",
    "\n",
    "fig, ax_list = plt.subplots(2,1,figsize=(12,8))              \n",
    "\n",
    "\n",
    "# Make a bar plot of injuries+fatalities\n",
    "\n",
    "ax_list[0].bar(tornado_injfat_decade[\"Decade\"], tornado_injfat_decade[\"Number of Injuries and Fatalities\"])\n",
    "ax_list[0].set_title(\"Number of Injuries and Fatalities due to Tornadoes per Decade Since 1950\")\n",
    "ax_list[0].set_ylabel(\"Number of Injuries and Fatalities\")\n",
    "\n",
    "\n",
    "# Make a line plot of injuries+fatalities\n",
    "\n",
    "ax_list[1].plot(tornado_injfat_decade[\"Decade\"], tornado_injfat_decade[\"Number of Injuries and Fatalities\"])\n",
    "ax_list[1].set_xlabel(\"Decade\")\n",
    "ax_list[1].set_ylabel(\"Number of Injuries and Fatalities\")\n",
    "\n",
    "fig.show()"
   ]
  },
  {
   "cell_type": "markdown",
   "metadata": {},
   "source": [
    "### Observation:  I wasn't expecting to see a decrease!  Perhaps we've gotten better at alerting and preparing for tornadoes.  "
   ]
  },
  {
   "cell_type": "markdown",
   "metadata": {},
   "source": [
    "## Step 5:  See if there is an increase in the severity of the tornadoes over time"
   ]
  },
  {
   "cell_type": "markdown",
   "metadata": {},
   "source": [
    "### 5.1 Cleanse the magnitude column\n",
    "* The dataframe uses -9 if the magnitude (0-5) is not known.  This will affect the average magnitude per decade if left unchanged."
   ]
  },
  {
   "cell_type": "code",
   "execution_count": 61,
   "metadata": {},
   "outputs": [
    {
     "data": {
      "text/html": [
       "<div>\n",
       "<style scoped>\n",
       "    .dataframe tbody tr th:only-of-type {\n",
       "        vertical-align: middle;\n",
       "    }\n",
       "\n",
       "    .dataframe tbody tr th {\n",
       "        vertical-align: top;\n",
       "    }\n",
       "\n",
       "    .dataframe thead th {\n",
       "        text-align: right;\n",
       "    }\n",
       "</style>\n",
       "<table border=\"1\" class=\"dataframe\">\n",
       "  <thead>\n",
       "    <tr style=\"text-align: right;\">\n",
       "      <th></th>\n",
       "      <th>yr</th>\n",
       "      <th>mo</th>\n",
       "      <th>st</th>\n",
       "      <th>mag</th>\n",
       "      <th>inj</th>\n",
       "      <th>fat</th>\n",
       "      <th>loss</th>\n",
       "      <th>closs</th>\n",
       "      <th>len</th>\n",
       "      <th>wid</th>\n",
       "    </tr>\n",
       "  </thead>\n",
       "  <tbody>\n",
       "    <tr>\n",
       "      <th>61453</th>\n",
       "      <td>2016</td>\n",
       "      <td>4</td>\n",
       "      <td>CO</td>\n",
       "      <td>NaN</td>\n",
       "      <td>0</td>\n",
       "      <td>0</td>\n",
       "      <td>0.0</td>\n",
       "      <td>0.0</td>\n",
       "      <td>1.20</td>\n",
       "      <td>100</td>\n",
       "    </tr>\n",
       "    <tr>\n",
       "      <th>61454</th>\n",
       "      <td>2016</td>\n",
       "      <td>4</td>\n",
       "      <td>CO</td>\n",
       "      <td>NaN</td>\n",
       "      <td>0</td>\n",
       "      <td>0</td>\n",
       "      <td>0.0</td>\n",
       "      <td>0.0</td>\n",
       "      <td>0.59</td>\n",
       "      <td>100</td>\n",
       "    </tr>\n",
       "  </tbody>\n",
       "</table>\n",
       "</div>"
      ],
      "text/plain": [
       "         yr  mo  st  mag  inj  fat  loss  closs   len  wid\n",
       "61453  2016   4  CO  NaN    0    0   0.0    0.0  1.20  100\n",
       "61454  2016   4  CO  NaN    0    0   0.0    0.0  0.59  100"
      ]
     },
     "execution_count": 61,
     "metadata": {},
     "output_type": "execute_result"
    }
   ],
   "source": [
    "# Replace all -9 magnitudes with NaN so that it won't be included in the average\n",
    "\n",
    "tornado_df['mag'] = tornado_df['mag'].replace(-9,np.nan)\n",
    "tornado_df[61453:61455]"
   ]
  },
  {
   "cell_type": "markdown",
   "metadata": {},
   "source": [
    "### 5.2 Make a dataframe for decade and average tornado magnitude (0-5)"
   ]
  },
  {
   "cell_type": "code",
   "execution_count": 62,
   "metadata": {},
   "outputs": [
    {
     "data": {
      "text/html": [
       "<div>\n",
       "<style scoped>\n",
       "    .dataframe tbody tr th:only-of-type {\n",
       "        vertical-align: middle;\n",
       "    }\n",
       "\n",
       "    .dataframe tbody tr th {\n",
       "        vertical-align: top;\n",
       "    }\n",
       "\n",
       "    .dataframe thead th {\n",
       "        text-align: right;\n",
       "    }\n",
       "</style>\n",
       "<table border=\"1\" class=\"dataframe\">\n",
       "  <thead>\n",
       "    <tr style=\"text-align: right;\">\n",
       "      <th></th>\n",
       "      <th>Decade</th>\n",
       "      <th>Average f-score (magnitude)</th>\n",
       "    </tr>\n",
       "  </thead>\n",
       "  <tbody>\n",
       "    <tr>\n",
       "      <th>0</th>\n",
       "      <td>1950s</td>\n",
       "      <td>1.341081</td>\n",
       "    </tr>\n",
       "    <tr>\n",
       "      <th>1</th>\n",
       "      <td>1960s</td>\n",
       "      <td>1.219948</td>\n",
       "    </tr>\n",
       "    <tr>\n",
       "      <th>2</th>\n",
       "      <td>1970s</td>\n",
       "      <td>1.115142</td>\n",
       "    </tr>\n",
       "    <tr>\n",
       "      <th>3</th>\n",
       "      <td>1980s</td>\n",
       "      <td>0.866819</td>\n",
       "    </tr>\n",
       "    <tr>\n",
       "      <th>4</th>\n",
       "      <td>1990s</td>\n",
       "      <td>0.576246</td>\n",
       "    </tr>\n",
       "    <tr>\n",
       "      <th>5</th>\n",
       "      <td>2000s</td>\n",
       "      <td>0.500386</td>\n",
       "    </tr>\n",
       "    <tr>\n",
       "      <th>6</th>\n",
       "      <td>2010s</td>\n",
       "      <td>0.632051</td>\n",
       "    </tr>\n",
       "  </tbody>\n",
       "</table>\n",
       "</div>"
      ],
      "text/plain": [
       "  Decade  Average f-score (magnitude)\n",
       "0  1950s                     1.341081\n",
       "1  1960s                     1.219948\n",
       "2  1970s                     1.115142\n",
       "3  1980s                     0.866819\n",
       "4  1990s                     0.576246\n",
       "5  2000s                     0.500386\n",
       "6  2010s                     0.632051"
      ]
     },
     "execution_count": 62,
     "metadata": {},
     "output_type": "execute_result"
    }
   ],
   "source": [
    "# Find the average magnitude per decade using the mean method\n",
    "\n",
    "mag_fif=tornado_df['mag'].loc[tornado_df['yr']<1960].mean(axis=0)\n",
    "mag_six=tornado_df['mag'].loc[(tornado_df['yr']>=1960)&(tornado_df['yr']<1970)].mean(axis=0)\n",
    "mag_sev=tornado_df['mag'].loc[(tornado_df['yr']>=1970)&(tornado_df['yr']<1980)].mean(axis=0)\n",
    "mag_eig=tornado_df['mag'].loc[(tornado_df['yr']>=1980)&(tornado_df['yr']<1990)].mean(axis=0)\n",
    "mag_nin=tornado_df['mag'].loc[(tornado_df['yr']>=1990)&(tornado_df['yr']<2000)].mean(axis=0)\n",
    "mag_nau=tornado_df['mag'].loc[(tornado_df['yr']>=2000)&(tornado_df['yr']<2010)].mean(axis=0)\n",
    "mag_ten=tornado_df['mag'].loc[(tornado_df['yr']>=2010)&(tornado_df['yr']<2020)].mean(axis=0)\n",
    "\n",
    "\n",
    "# Make a dictionary connecting average magnitude of tornado to decade\n",
    "\n",
    "d2={'Decade':['1950s', '1960s', '1970s', '1980s', '1990s','2000s','2010s'], 'Average f-score (magnitude)':[\n",
    "mag_fif, mag_six, mag_sev, mag_eig, mag_nin, mag_nau, mag_ten]}\n",
    "\n",
    "\n",
    "# Change the dictionary to a dataframe for analysis\n",
    "\n",
    "tornado_mag_decade = pd.DataFrame(data=d2)\n",
    "tornado_mag_decade\n"
   ]
  },
  {
   "cell_type": "markdown",
   "metadata": {},
   "source": [
    "### 5.3 Visualize the data"
   ]
  },
  {
   "cell_type": "code",
   "execution_count": 90,
   "metadata": {},
   "outputs": [
    {
     "name": "stderr",
     "output_type": "stream",
     "text": [
      "<ipython-input-90-6be8d2aa26c2>:19: UserWarning: Matplotlib is currently using module://ipykernel.pylab.backend_inline, which is a non-GUI backend, so cannot show the figure.\n",
      "  fig.show()\n"
     ]
    },
    {
     "data": {
      "image/png": "[encoded data removed]",
      "text/plain": [
       "<Figure size 864x576 with 2 Axes>"
      ]
     },
     "metadata": {
      "needs_background": "light"
     },
     "output_type": "display_data"
    }
   ],
   "source": [
    "# Set up how plots will be arranged\n",
    "\n",
    "fig, ax_list = plt.subplots(2,1,figsize=(12,8))              \n",
    "\n",
    "\n",
    "# Make a bar plot of average magnitude\n",
    "\n",
    "ax_list[0].bar(tornado_mag_decade[\"Decade\"], tornado_mag_decade[\"Average f-score (magnitude)\"])\n",
    "ax_list[0].set_title(\"Average Magnitude (0-5) per Decade Since 1950\")\n",
    "ax_list[0].set_ylabel(\"Magnitude\")\n",
    "\n",
    "\n",
    "# Make a line plot of average magnitude\n",
    "\n",
    "ax_list[1].plot(tornado_mag_decade[\"Decade\"], tornado_mag_decade[\"Average f-score (magnitude)\"])\n",
    "ax_list[1].set_xlabel(\"Decade\")\n",
    "ax_list[1].set_ylabel(\"Magnitude\")\n",
    "\n",
    "fig.show()"
   ]
  },
  {
   "cell_type": "markdown",
   "metadata": {},
   "source": [
    "### Observation:  There is generally a decrease in the average magnitude of the tornadoes"
   ]
  },
  {
   "cell_type": "markdown",
   "metadata": {},
   "source": [
    "## Step 6:  See if there is an increase in the length and width of the storms"
   ]
  },
  {
   "cell_type": "markdown",
   "metadata": {},
   "source": [
    "### 6.1 Make a dataframe of decade, average length, and average width of tornadoes"
   ]
  },
  {
   "cell_type": "code",
   "execution_count": 63,
   "metadata": {},
   "outputs": [
    {
     "data": {
      "text/html": [
       "<div>\n",
       "<style scoped>\n",
       "    .dataframe tbody tr th:only-of-type {\n",
       "        vertical-align: middle;\n",
       "    }\n",
       "\n",
       "    .dataframe tbody tr th {\n",
       "        vertical-align: top;\n",
       "    }\n",
       "\n",
       "    .dataframe thead th {\n",
       "        text-align: right;\n",
       "    }\n",
       "</style>\n",
       "<table border=\"1\" class=\"dataframe\">\n",
       "  <thead>\n",
       "    <tr style=\"text-align: right;\">\n",
       "      <th></th>\n",
       "      <th>Decade</th>\n",
       "      <th>Average length in miles</th>\n",
       "      <th>Average width in miles</th>\n",
       "    </tr>\n",
       "  </thead>\n",
       "  <tbody>\n",
       "    <tr>\n",
       "      <th>0</th>\n",
       "      <td>1950s</td>\n",
       "      <td>6.013721</td>\n",
       "      <td>112.240775</td>\n",
       "    </tr>\n",
       "    <tr>\n",
       "      <th>1</th>\n",
       "      <td>1960s</td>\n",
       "      <td>4.430971</td>\n",
       "      <td>85.711300</td>\n",
       "    </tr>\n",
       "    <tr>\n",
       "      <th>2</th>\n",
       "      <td>1970s</td>\n",
       "      <td>4.245001</td>\n",
       "      <td>84.632189</td>\n",
       "    </tr>\n",
       "    <tr>\n",
       "      <th>3</th>\n",
       "      <td>1980s</td>\n",
       "      <td>3.105570</td>\n",
       "      <td>80.240014</td>\n",
       "    </tr>\n",
       "    <tr>\n",
       "      <th>4</th>\n",
       "      <td>1990s</td>\n",
       "      <td>2.618084</td>\n",
       "      <td>85.691838</td>\n",
       "    </tr>\n",
       "    <tr>\n",
       "      <th>5</th>\n",
       "      <td>2000s</td>\n",
       "      <td>3.012140</td>\n",
       "      <td>110.390594</td>\n",
       "    </tr>\n",
       "    <tr>\n",
       "      <th>6</th>\n",
       "      <td>2010s</td>\n",
       "      <td>3.739469</td>\n",
       "      <td>171.940259</td>\n",
       "    </tr>\n",
       "  </tbody>\n",
       "</table>\n",
       "</div>"
      ],
      "text/plain": [
       "  Decade  Average length in miles  Average width in miles\n",
       "0  1950s                 6.013721              112.240775\n",
       "1  1960s                 4.430971               85.711300\n",
       "2  1970s                 4.245001               84.632189\n",
       "3  1980s                 3.105570               80.240014\n",
       "4  1990s                 2.618084               85.691838\n",
       "5  2000s                 3.012140              110.390594\n",
       "6  2010s                 3.739469              171.940259"
      ]
     },
     "execution_count": 63,
     "metadata": {},
     "output_type": "execute_result"
    }
   ],
   "source": [
    "# Find the average length of the storms in miles per decade using the mean method\n",
    "\n",
    "len_fif=tornado_df['len'].loc[tornado_df['yr']<1960].mean(axis=0)\n",
    "len_six=tornado_df['len'].loc[(tornado_df['yr']>=1960)&(tornado_df['yr']<1970)].mean(axis=0)\n",
    "len_sev=tornado_df['len'].loc[(tornado_df['yr']>=1970)&(tornado_df['yr']<1980)].mean(axis=0)\n",
    "len_eig=tornado_df['len'].loc[(tornado_df['yr']>=1980)&(tornado_df['yr']<1990)].mean(axis=0)\n",
    "len_nin=tornado_df['len'].loc[(tornado_df['yr']>=1990)&(tornado_df['yr']<2000)].mean(axis=0)\n",
    "len_nau=tornado_df['len'].loc[(tornado_df['yr']>=2000)&(tornado_df['yr']<2010)].mean(axis=0)\n",
    "len_ten=tornado_df['len'].loc[(tornado_df['yr']>=2010)&(tornado_df['yr']<2020)].mean(axis=0)\n",
    "\n",
    "# Find the average width of the storms in miles per decade using the mean method\n",
    "\n",
    "wid_fif=tornado_df['wid'].loc[tornado_df['yr']<1960].mean(axis=0)\n",
    "wid_six=tornado_df['wid'].loc[(tornado_df['yr']>=1960)&(tornado_df['yr']<1970)].mean(axis=0)\n",
    "wid_sev=tornado_df['wid'].loc[(tornado_df['yr']>=1970)&(tornado_df['yr']<1980)].mean(axis=0)\n",
    "wid_eig=tornado_df['wid'].loc[(tornado_df['yr']>=1980)&(tornado_df['yr']<1990)].mean(axis=0)\n",
    "wid_nin=tornado_df['wid'].loc[(tornado_df['yr']>=1990)&(tornado_df['yr']<2000)].mean(axis=0)\n",
    "wid_nau=tornado_df['wid'].loc[(tornado_df['yr']>=2000)&(tornado_df['yr']<2010)].mean(axis=0)\n",
    "wid_ten=tornado_df['wid'].loc[(tornado_df['yr']>=2010)&(tornado_df['yr']<2020)].mean(axis=0)\n",
    "\n",
    "# Make a dictionary connecting decade to average length and width of tornadoes\n",
    "\n",
    "d3={'Decade':['1950s', '1960s', '1970s', '1980s', '1990s','2000s','2010s'], 'Average length in miles':[\n",
    "len_fif, len_six, len_sev, len_eig, len_nin, len_nau, len_ten],'Average width in miles':[\n",
    "    wid_fif, wid_six, wid_sev, wid_eig, wid_nin, wid_nau, wid_ten]}\n",
    "\n",
    "# Change the dictionary to a dataframe for analysis\n",
    "\n",
    "tornado_size_decade = pd.DataFrame(data=d3)\n",
    "tornado_size_decade\n"
   ]
  },
  {
   "cell_type": "markdown",
   "metadata": {},
   "source": [
    "### 6.2 Visualize the data"
   ]
  },
  {
   "cell_type": "code",
   "execution_count": 123,
   "metadata": {},
   "outputs": [
    {
     "data": {
      "text/plain": [
       "Text(0, 0.5, 'Miles')"
      ]
     },
     "execution_count": 123,
     "metadata": {},
     "output_type": "execute_result"
    },
    {
     "data": {
      "image/png": "[encoded data removed]",
      "text/plain": [
       "<Figure size 864x576 with 2 Axes>"
      ]
     },
     "metadata": {
      "needs_background": "light"
     },
     "output_type": "display_data"
    }
   ],
   "source": [
    "# Set up how plots will be arranged\n",
    "\n",
    "fig, ax_list = plt.subplots(2,1,figsize=(12,8))  \n",
    "\n",
    "\n",
    "# Make a double bar plot of size\n",
    "\n",
    "tornado_size_decade.plot.bar(\"Decade\", ax=ax_list[0])\n",
    "ax_list[0].set_title(\"Size of Tornado\")\n",
    "ax_list[0].set_ylabel(\"Miles\")\n",
    "\n",
    "# Make a double line plot of size\n",
    "\n",
    "tornado_size_decade.plot(\"Decade\", ax=ax_list[1])\n",
    "ax_list[1].set_ylabel(\"Miles\")\n",
    "\n"
   ]
  },
  {
   "cell_type": "markdown",
   "metadata": {},
   "source": [
    "### Observation:  The data isn't compelling but the width of the storm does seem to be increasing"
   ]
  },
  {
   "cell_type": "markdown",
   "metadata": {},
   "source": [
    "#  Part II:  Analysis of Precipitation and Temperature  for US from 1950 to 2019\n",
    "## Source: https://www.ncdc.noaa.gov/cag/national/data-info"
   ]
  },
  {
   "cell_type": "markdown",
   "metadata": {},
   "source": [
    "## Step 1:  Read the files and get a feel for the data"
   ]
  },
  {
   "cell_type": "code",
   "execution_count": 93,
   "metadata": {},
   "outputs": [
    {
     "name": "stdout",
     "output_type": "stream",
     "text": [
      "(74, 3)\n",
      "(74, 3)\n"
     ]
    }
   ],
   "source": [
    "df1=pd.read_csv('110-pcp-12-12-1950-2020.csv')          # Read the precip data file into python data frame\n",
    "df2=pd.read_csv('110-tavg-12-12-1950-2020.csv')         # Read the average temp data file into python data frame\n",
    "print(df1.shape)                                        # Find out the number of rows/observations and columns/variables\n",
    "print(df2.shape)"
   ]
  },
  {
   "cell_type": "code",
   "execution_count": 117,
   "metadata": {},
   "outputs": [
    {
     "data": {
      "text/html": [
       "<div>\n",
       "<style scoped>\n",
       "    .dataframe tbody tr th:only-of-type {\n",
       "        vertical-align: middle;\n",
       "    }\n",
       "\n",
       "    .dataframe tbody tr th {\n",
       "        vertical-align: top;\n",
       "    }\n",
       "\n",
       "    .dataframe thead th {\n",
       "        text-align: right;\n",
       "    }\n",
       "</style>\n",
       "<table border=\"1\" class=\"dataframe\">\n",
       "  <thead>\n",
       "    <tr style=\"text-align: right;\">\n",
       "      <th></th>\n",
       "      <th>Contiguous U.S.</th>\n",
       "      <th>Precipitation</th>\n",
       "      <th>January-December</th>\n",
       "    </tr>\n",
       "  </thead>\n",
       "  <tbody>\n",
       "    <tr>\n",
       "      <th>0</th>\n",
       "      <td>Units: Inches</td>\n",
       "      <td>NaN</td>\n",
       "      <td>NaN</td>\n",
       "    </tr>\n",
       "    <tr>\n",
       "      <th>1</th>\n",
       "      <td>Base Period: 1901-2000</td>\n",
       "      <td>NaN</td>\n",
       "      <td>NaN</td>\n",
       "    </tr>\n",
       "    <tr>\n",
       "      <th>2</th>\n",
       "      <td>Missing: -99</td>\n",
       "      <td>NaN</td>\n",
       "      <td>NaN</td>\n",
       "    </tr>\n",
       "    <tr>\n",
       "      <th>3</th>\n",
       "      <td>Date</td>\n",
       "      <td>Value</td>\n",
       "      <td>Anomaly</td>\n",
       "    </tr>\n",
       "    <tr>\n",
       "      <th>4</th>\n",
       "      <td>195012</td>\n",
       "      <td>30.87</td>\n",
       "      <td>0.93</td>\n",
       "    </tr>\n",
       "    <tr>\n",
       "      <th>5</th>\n",
       "      <td>195112</td>\n",
       "      <td>31.25</td>\n",
       "      <td>1.31</td>\n",
       "    </tr>\n",
       "    <tr>\n",
       "      <th>6</th>\n",
       "      <td>195212</td>\n",
       "      <td>26.34</td>\n",
       "      <td>-3.60</td>\n",
       "    </tr>\n",
       "    <tr>\n",
       "      <th>7</th>\n",
       "      <td>195312</td>\n",
       "      <td>28.31</td>\n",
       "      <td>-1.63</td>\n",
       "    </tr>\n",
       "    <tr>\n",
       "      <th>8</th>\n",
       "      <td>195412</td>\n",
       "      <td>26.15</td>\n",
       "      <td>-3.79</td>\n",
       "    </tr>\n",
       "    <tr>\n",
       "      <th>9</th>\n",
       "      <td>195512</td>\n",
       "      <td>27.74</td>\n",
       "      <td>-2.20</td>\n",
       "    </tr>\n",
       "  </tbody>\n",
       "</table>\n",
       "</div>"
      ],
      "text/plain": [
       "          Contiguous U.S.  Precipitation  January-December\n",
       "0           Units: Inches            NaN               NaN\n",
       "1  Base Period: 1901-2000            NaN               NaN\n",
       "2            Missing: -99            NaN               NaN\n",
       "3                    Date          Value           Anomaly\n",
       "4                  195012          30.87              0.93\n",
       "5                  195112          31.25              1.31\n",
       "6                  195212          26.34             -3.60\n",
       "7                  195312          28.31             -1.63\n",
       "8                  195412          26.15             -3.79\n",
       "9                  195512          27.74             -2.20"
      ]
     },
     "execution_count": 117,
     "metadata": {},
     "output_type": "execute_result"
    }
   ],
   "source": [
    "df1.head(10)                                            # Display first 10 rows"
   ]
  },
  {
   "cell_type": "code",
   "execution_count": 115,
   "metadata": {},
   "outputs": [
    {
     "data": {
      "text/plain": [
       "Index(['Contiguous U.S.', ' Precipitation', ' January-December'], dtype='object')"
      ]
     },
     "execution_count": 115,
     "metadata": {},
     "output_type": "execute_result"
    }
   ],
   "source": [
    "df1.columns                                             # Display what it thinks are the column names"
   ]
  },
  {
   "cell_type": "code",
   "execution_count": 96,
   "metadata": {},
   "outputs": [
    {
     "data": {
      "text/html": [
       "<div>\n",
       "<style scoped>\n",
       "    .dataframe tbody tr th:only-of-type {\n",
       "        vertical-align: middle;\n",
       "    }\n",
       "\n",
       "    .dataframe tbody tr th {\n",
       "        vertical-align: top;\n",
       "    }\n",
       "\n",
       "    .dataframe thead th {\n",
       "        text-align: right;\n",
       "    }\n",
       "</style>\n",
       "<table border=\"1\" class=\"dataframe\">\n",
       "  <thead>\n",
       "    <tr style=\"text-align: right;\">\n",
       "      <th></th>\n",
       "      <th>Contiguous U.S.</th>\n",
       "      <th>Average Temperature</th>\n",
       "      <th>January-December</th>\n",
       "    </tr>\n",
       "  </thead>\n",
       "  <tbody>\n",
       "    <tr>\n",
       "      <th>0</th>\n",
       "      <td>Units: Degrees Fahrenheit</td>\n",
       "      <td>NaN</td>\n",
       "      <td>NaN</td>\n",
       "    </tr>\n",
       "    <tr>\n",
       "      <th>1</th>\n",
       "      <td>Base Period: 1901-2000</td>\n",
       "      <td>NaN</td>\n",
       "      <td>NaN</td>\n",
       "    </tr>\n",
       "    <tr>\n",
       "      <th>2</th>\n",
       "      <td>Missing: -99</td>\n",
       "      <td>NaN</td>\n",
       "      <td>NaN</td>\n",
       "    </tr>\n",
       "    <tr>\n",
       "      <th>3</th>\n",
       "      <td>Date</td>\n",
       "      <td>Value</td>\n",
       "      <td>Anomaly</td>\n",
       "    </tr>\n",
       "    <tr>\n",
       "      <th>4</th>\n",
       "      <td>195012</td>\n",
       "      <td>51.39</td>\n",
       "      <td>-0.63</td>\n",
       "    </tr>\n",
       "    <tr>\n",
       "      <th>5</th>\n",
       "      <td>195112</td>\n",
       "      <td>51.12</td>\n",
       "      <td>-0.90</td>\n",
       "    </tr>\n",
       "    <tr>\n",
       "      <th>6</th>\n",
       "      <td>195212</td>\n",
       "      <td>52.27</td>\n",
       "      <td>0.25</td>\n",
       "    </tr>\n",
       "    <tr>\n",
       "      <th>7</th>\n",
       "      <td>195312</td>\n",
       "      <td>53.37</td>\n",
       "      <td>1.35</td>\n",
       "    </tr>\n",
       "    <tr>\n",
       "      <th>8</th>\n",
       "      <td>195412</td>\n",
       "      <td>53.33</td>\n",
       "      <td>1.31</td>\n",
       "    </tr>\n",
       "    <tr>\n",
       "      <th>9</th>\n",
       "      <td>195512</td>\n",
       "      <td>51.69</td>\n",
       "      <td>-0.33</td>\n",
       "    </tr>\n",
       "  </tbody>\n",
       "</table>\n",
       "</div>"
      ],
      "text/plain": [
       "             Contiguous U.S.  Average Temperature  January-December\n",
       "0  Units: Degrees Fahrenheit                  NaN               NaN\n",
       "1     Base Period: 1901-2000                  NaN               NaN\n",
       "2               Missing: -99                  NaN               NaN\n",
       "3                       Date                Value           Anomaly\n",
       "4                     195012                51.39             -0.63\n",
       "5                     195112                51.12             -0.90\n",
       "6                     195212                52.27              0.25\n",
       "7                     195312                53.37              1.35\n",
       "8                     195412                53.33              1.31\n",
       "9                     195512                51.69             -0.33"
      ]
     },
     "execution_count": 96,
     "metadata": {},
     "output_type": "execute_result"
    }
   ],
   "source": [
    "df2.head(10)                                            # Display first 10 rows"
   ]
  },
  {
   "cell_type": "code",
   "execution_count": 142,
   "metadata": {},
   "outputs": [
    {
     "data": {
      "text/plain": [
       "Index(['Contiguous U.S.', ' Average Temperature', ' January-December'], dtype='object')"
      ]
     },
     "execution_count": 142,
     "metadata": {},
     "output_type": "execute_result"
    }
   ],
   "source": [
    "df2.columns                                             # Display what it thinks are the column names"
   ]
  },
  {
   "cell_type": "markdown",
   "metadata": {},
   "source": [
    "## Step 2:  Cleanse the precipitation dataframe"
   ]
  },
  {
   "cell_type": "markdown",
   "metadata": {},
   "source": [
    "* Eliminate the first few rows, remove last column, rename the first column as year, change year from YYYY12 to YYYY, and change data from strings to floats in order to graph"
   ]
  },
  {
   "cell_type": "code",
   "execution_count": 140,
   "metadata": {},
   "outputs": [
    {
     "data": {
      "text/html": [
       "<div>\n",
       "<style scoped>\n",
       "    .dataframe tbody tr th:only-of-type {\n",
       "        vertical-align: middle;\n",
       "    }\n",
       "\n",
       "    .dataframe tbody tr th {\n",
       "        vertical-align: top;\n",
       "    }\n",
       "\n",
       "    .dataframe thead th {\n",
       "        text-align: right;\n",
       "    }\n",
       "</style>\n",
       "<table border=\"1\" class=\"dataframe\">\n",
       "  <thead>\n",
       "    <tr style=\"text-align: right;\">\n",
       "      <th></th>\n",
       "      <th>Year</th>\n",
       "      <th>Precipitation</th>\n",
       "    </tr>\n",
       "  </thead>\n",
       "  <tbody>\n",
       "    <tr>\n",
       "      <th>4</th>\n",
       "      <td>1950</td>\n",
       "      <td>30.87</td>\n",
       "    </tr>\n",
       "    <tr>\n",
       "      <th>5</th>\n",
       "      <td>1951</td>\n",
       "      <td>31.25</td>\n",
       "    </tr>\n",
       "    <tr>\n",
       "      <th>6</th>\n",
       "      <td>1952</td>\n",
       "      <td>26.34</td>\n",
       "    </tr>\n",
       "    <tr>\n",
       "      <th>7</th>\n",
       "      <td>1953</td>\n",
       "      <td>28.31</td>\n",
       "    </tr>\n",
       "    <tr>\n",
       "      <th>8</th>\n",
       "      <td>1954</td>\n",
       "      <td>26.15</td>\n",
       "    </tr>\n",
       "  </tbody>\n",
       "</table>\n",
       "</div>"
      ],
      "text/plain": [
       "   Year  Precipitation\n",
       "4  1950          30.87\n",
       "5  1951          31.25\n",
       "6  1952          26.34\n",
       "7  1953          28.31\n",
       "8  1954          26.15"
      ]
     },
     "execution_count": 140,
     "metadata": {},
     "output_type": "execute_result"
    }
   ],
   "source": [
    "\n",
    "precip_df=df1[4:]                                                       # Only keep from row 4 on\n",
    "precip_df.rename(columns={'Contiguous U.S.': 'Year'}, inplace=True)     # Rename the first column as year\n",
    "precip_df.drop(columns=[' January-December'], inplace=True)             # The last column is not needed\n",
    "\n",
    "\n",
    "for i in range (4,74):\n",
    "    precip_df['Year'][i]=float(precip_df['Year'][i][0:4])                   # The year is in YYYYMM format and is a string\n",
    "    precip_df[' Precipitation'][i]=float(precip_df[' Precipitation'][i])    # The precip is also a string\n",
    "                                                                            # This loop keeps just YYYY and changes to a float\n",
    "precip_df.head()                                                            # and changes precip data to a float\n",
    "\n",
    "\n",
    "\n",
    "\n"
   ]
  },
  {
   "cell_type": "markdown",
   "metadata": {},
   "source": [
    "## Step 3:  Visualize the precipitation data"
   ]
  },
  {
   "cell_type": "code",
   "execution_count": 141,
   "metadata": {},
   "outputs": [
    {
     "name": "stderr",
     "output_type": "stream",
     "text": [
      "<ipython-input-141-2d6a008adde2>:10: UserWarning: Matplotlib is currently using module://ipykernel.pylab.backend_inline, which is a non-GUI backend, so cannot show the figure.\n",
      "  fig.show()\n"
     ]
    },
    {
     "data": {
      "image/png": "[encoded data removed]",
      "text/plain": [
       "<Figure size 1440x576 with 1 Axes>"
      ]
     },
     "metadata": {
      "needs_background": "light"
     },
     "output_type": "display_data"
    }
   ],
   "source": [
    "# Make a scatter plot of the precip data\n",
    "\n",
    "fig, ax_list = plt.subplots(figsize=(20,8))     \n",
    "\n",
    "ax_list.scatter(precip_df[\"Year\"], precip_df[\" Precipitation\"])\n",
    "ax_list.set_title(\"Average Yearly U.S. Precipitation (inches)\")\n",
    "ax_list.set_xlabel(\"Year\")\n",
    "ax_list.set_ylabel(\"Precipitation (inches)\")\n",
    "\n",
    "fig.show()"
   ]
  },
  {
   "cell_type": "markdown",
   "metadata": {},
   "source": [
    "### Observation:  There does appear to be an upward trend in the precipitation"
   ]
  },
  {
   "cell_type": "markdown",
   "metadata": {},
   "source": [
    "## Step 4:  Cleanse the temperature dataframe"
   ]
  },
  {
   "cell_type": "markdown",
   "metadata": {},
   "source": [
    "* Eliminate the first few rows, remove last column, rename the first column as year, change year from YYYY12 to YYYY, and change data from strings to floats in order to graph"
   ]
  },
  {
   "cell_type": "code",
   "execution_count": 143,
   "metadata": {},
   "outputs": [
    {
     "name": "stderr",
     "output_type": "stream",
     "text": [
      "C:\\Users\\bolzj\\Anaconda3\\lib\\site-packages\\pandas\\core\\frame.py:4125: SettingWithCopyWarning: \n",
      "A value is trying to be set on a copy of a slice from a DataFrame\n",
      "\n",
      "See the caveats in the documentation: https://pandas.pydata.org/pandas-docs/stable/user_guide/indexing.html#returning-a-view-versus-a-copy\n",
      "  return super().rename(\n",
      "C:\\Users\\bolzj\\Anaconda3\\lib\\site-packages\\pandas\\core\\frame.py:3990: SettingWithCopyWarning: \n",
      "A value is trying to be set on a copy of a slice from a DataFrame\n",
      "\n",
      "See the caveats in the documentation: https://pandas.pydata.org/pandas-docs/stable/user_guide/indexing.html#returning-a-view-versus-a-copy\n",
      "  return super().drop(\n",
      "C:\\Users\\bolzj\\Anaconda3\\lib\\site-packages\\IPython\\core\\interactiveshell.py:3343: SettingWithCopyWarning: \n",
      "A value is trying to be set on a copy of a slice from a DataFrame\n",
      "\n",
      "See the caveats in the documentation: https://pandas.pydata.org/pandas-docs/stable/user_guide/indexing.html#returning-a-view-versus-a-copy\n",
      "  exec(code_obj, self.user_global_ns, self.user_ns)\n"
     ]
    },
    {
     "data": {
      "text/html": [
       "<div>\n",
       "<style scoped>\n",
       "    .dataframe tbody tr th:only-of-type {\n",
       "        vertical-align: middle;\n",
       "    }\n",
       "\n",
       "    .dataframe tbody tr th {\n",
       "        vertical-align: top;\n",
       "    }\n",
       "\n",
       "    .dataframe thead th {\n",
       "        text-align: right;\n",
       "    }\n",
       "</style>\n",
       "<table border=\"1\" class=\"dataframe\">\n",
       "  <thead>\n",
       "    <tr style=\"text-align: right;\">\n",
       "      <th></th>\n",
       "      <th>Year</th>\n",
       "      <th>Average Temperature</th>\n",
       "    </tr>\n",
       "  </thead>\n",
       "  <tbody>\n",
       "    <tr>\n",
       "      <th>4</th>\n",
       "      <td>1950</td>\n",
       "      <td>51.39</td>\n",
       "    </tr>\n",
       "    <tr>\n",
       "      <th>5</th>\n",
       "      <td>1951</td>\n",
       "      <td>51.12</td>\n",
       "    </tr>\n",
       "    <tr>\n",
       "      <th>6</th>\n",
       "      <td>1952</td>\n",
       "      <td>52.27</td>\n",
       "    </tr>\n",
       "    <tr>\n",
       "      <th>7</th>\n",
       "      <td>1953</td>\n",
       "      <td>53.37</td>\n",
       "    </tr>\n",
       "    <tr>\n",
       "      <th>8</th>\n",
       "      <td>1954</td>\n",
       "      <td>53.33</td>\n",
       "    </tr>\n",
       "  </tbody>\n",
       "</table>\n",
       "</div>"
      ],
      "text/plain": [
       "   Year  Average Temperature\n",
       "4  1950                51.39\n",
       "5  1951                51.12\n",
       "6  1952                52.27\n",
       "7  1953                53.37\n",
       "8  1954                53.33"
      ]
     },
     "execution_count": 143,
     "metadata": {},
     "output_type": "execute_result"
    }
   ],
   "source": [
    "\n",
    "temp_df=df2[4:]                                                       # Only keep from row 4 on\n",
    "temp_df.rename(columns={'Contiguous U.S.': 'Year'}, inplace=True)     # Rename the first column as year\n",
    "temp_df.drop(columns=[' January-December'], inplace=True)             # The last column is not needed\n",
    "\n",
    "\n",
    "for i in range (4,74):\n",
    "    temp_df['Year'][i]=float(temp_df['Year'][i][0:4])                             # The year is in YYYYMM format and is a string\n",
    "    temp_df[' Average Temperature'][i]=float(temp_df[' Average Temperature'][i])  # The temp is also a string\n",
    "                                                                                  # This loop keeps just YYYY and changes \n",
    "temp_df.head()                                                                    # to a float and changes temp data to a \n",
    "                                                                                  # float\n",
    "\n"
   ]
  },
  {
   "cell_type": "markdown",
   "metadata": {},
   "source": [
    "## Step 5:  Visualize the average temperature data\n"
   ]
  },
  {
   "cell_type": "code",
   "execution_count": 144,
   "metadata": {},
   "outputs": [
    {
     "name": "stderr",
     "output_type": "stream",
     "text": [
      "<ipython-input-144-3fa1ff8ea7f8>:10: UserWarning: Matplotlib is currently using module://ipykernel.pylab.backend_inline, which is a non-GUI backend, so cannot show the figure.\n",
      "  fig.show()\n"
     ]
    },
    {
     "data": {
      "image/png": "[encoded data removed]",
      "text/plain": [
       "<Figure size 1440x576 with 1 Axes>"
      ]
     },
     "metadata": {
      "needs_background": "light"
     },
     "output_type": "display_data"
    }
   ],
   "source": [
    "# Make a scatter plot of the temperature data\n",
    "\n",
    "fig, ax_list = plt.subplots(figsize=(20,8))     \n",
    "\n",
    "ax_list.scatter(temp_df[\"Year\"], temp_df[\" Average Temperature\"])\n",
    "ax_list.set_title(\"Average Yearly U.S. Temperature (degrees Fahrenheit)\")\n",
    "ax_list.set_xlabel(\"Year\")\n",
    "ax_list.set_ylabel(\"Temperature\")\n",
    "\n",
    "fig.show()"
   ]
  },
  {
   "cell_type": "markdown",
   "metadata": {},
   "source": [
    "### Observation:  There does appear to be an upward trend in the precipitation"
   ]
  },
  {
   "cell_type": "markdown",
   "metadata": {},
   "source": [
    "# Part III:  A Comparison of Regions\n",
    "## Source:  In order to compare densely vs. non-densely populated areas, I ordered yearly date for Baltimore and Savage River Dam, MD (Western MD) from NOAA.  https://www.ncdc.noaa.gov/cdo-web/confirmation"
   ]
  },
  {
   "cell_type": "markdown",
   "metadata": {},
   "source": [
    "## Step 1:  Read in, get a feel for the data, and organize "
   ]
  },
  {
   "cell_type": "code",
   "execution_count": 149,
   "metadata": {},
   "outputs": [
    {
     "data": {
      "text/plain": [
       "(135, 17)"
      ]
     },
     "execution_count": 149,
     "metadata": {},
     "output_type": "execute_result"
    }
   ],
   "source": [
    "df3=pd.read_csv('2328476.csv')               # Read the precip and temp data file into python data frame\n",
    "\n",
    "df3.shape                                    # Find number of rows/observations and columns/variables"
   ]
  },
  {
   "cell_type": "code",
   "execution_count": 150,
   "metadata": {},
   "outputs": [
    {
     "data": {
      "text/html": [
       "<div>\n",
       "<style scoped>\n",
       "    .dataframe tbody tr th:only-of-type {\n",
       "        vertical-align: middle;\n",
       "    }\n",
       "\n",
       "    .dataframe tbody tr th {\n",
       "        vertical-align: top;\n",
       "    }\n",
       "\n",
       "    .dataframe thead th {\n",
       "        text-align: right;\n",
       "    }\n",
       "</style>\n",
       "<table border=\"1\" class=\"dataframe\">\n",
       "  <thead>\n",
       "    <tr style=\"text-align: right;\">\n",
       "      <th></th>\n",
       "      <th>STATION</th>\n",
       "      <th>NAME</th>\n",
       "      <th>DATE</th>\n",
       "      <th>CDSD</th>\n",
       "      <th>DSND</th>\n",
       "      <th>DSNW</th>\n",
       "      <th>EMNT</th>\n",
       "      <th>EMSD</th>\n",
       "      <th>EMSN</th>\n",
       "      <th>EMXP</th>\n",
       "      <th>EMXT</th>\n",
       "      <th>HDSD</th>\n",
       "      <th>PRCP</th>\n",
       "      <th>SNOW</th>\n",
       "      <th>TAVG</th>\n",
       "      <th>TMAX</th>\n",
       "      <th>TMIN</th>\n",
       "    </tr>\n",
       "  </thead>\n",
       "  <tbody>\n",
       "    <tr>\n",
       "      <th>0</th>\n",
       "      <td>USC00188065</td>\n",
       "      <td>SAVAGE RIVER DAM, MD US</td>\n",
       "      <td>1950</td>\n",
       "      <td>NaN</td>\n",
       "      <td>NaN</td>\n",
       "      <td>NaN</td>\n",
       "      <td>NaN</td>\n",
       "      <td>NaN</td>\n",
       "      <td>NaN</td>\n",
       "      <td>NaN</td>\n",
       "      <td>NaN</td>\n",
       "      <td>NaN</td>\n",
       "      <td>38.05</td>\n",
       "      <td>NaN</td>\n",
       "      <td>NaN</td>\n",
       "      <td>NaN</td>\n",
       "      <td>NaN</td>\n",
       "    </tr>\n",
       "    <tr>\n",
       "      <th>1</th>\n",
       "      <td>USC00188065</td>\n",
       "      <td>SAVAGE RIVER DAM, MD US</td>\n",
       "      <td>1951</td>\n",
       "      <td>NaN</td>\n",
       "      <td>NaN</td>\n",
       "      <td>NaN</td>\n",
       "      <td>NaN</td>\n",
       "      <td>NaN</td>\n",
       "      <td>NaN</td>\n",
       "      <td>NaN</td>\n",
       "      <td>NaN</td>\n",
       "      <td>NaN</td>\n",
       "      <td>41.11</td>\n",
       "      <td>NaN</td>\n",
       "      <td>NaN</td>\n",
       "      <td>NaN</td>\n",
       "      <td>NaN</td>\n",
       "    </tr>\n",
       "    <tr>\n",
       "      <th>2</th>\n",
       "      <td>USC00188065</td>\n",
       "      <td>SAVAGE RIVER DAM, MD US</td>\n",
       "      <td>1952</td>\n",
       "      <td>NaN</td>\n",
       "      <td>NaN</td>\n",
       "      <td>NaN</td>\n",
       "      <td>NaN</td>\n",
       "      <td>NaN</td>\n",
       "      <td>NaN</td>\n",
       "      <td>NaN</td>\n",
       "      <td>NaN</td>\n",
       "      <td>NaN</td>\n",
       "      <td>38.73</td>\n",
       "      <td>NaN</td>\n",
       "      <td>NaN</td>\n",
       "      <td>NaN</td>\n",
       "      <td>NaN</td>\n",
       "    </tr>\n",
       "    <tr>\n",
       "      <th>3</th>\n",
       "      <td>USC00188065</td>\n",
       "      <td>SAVAGE RIVER DAM, MD US</td>\n",
       "      <td>1953</td>\n",
       "      <td>596.0</td>\n",
       "      <td>NaN</td>\n",
       "      <td>NaN</td>\n",
       "      <td>8.0</td>\n",
       "      <td>NaN</td>\n",
       "      <td>NaN</td>\n",
       "      <td>1.34</td>\n",
       "      <td>98.0</td>\n",
       "      <td>5615.0</td>\n",
       "      <td>31.67</td>\n",
       "      <td>NaN</td>\n",
       "      <td>51.4</td>\n",
       "      <td>63.9</td>\n",
       "      <td>38.9</td>\n",
       "    </tr>\n",
       "    <tr>\n",
       "      <th>4</th>\n",
       "      <td>USC00188065</td>\n",
       "      <td>SAVAGE RIVER DAM, MD US</td>\n",
       "      <td>1954</td>\n",
       "      <td>NaN</td>\n",
       "      <td>NaN</td>\n",
       "      <td>NaN</td>\n",
       "      <td>NaN</td>\n",
       "      <td>NaN</td>\n",
       "      <td>NaN</td>\n",
       "      <td>NaN</td>\n",
       "      <td>NaN</td>\n",
       "      <td>5710.0</td>\n",
       "      <td>NaN</td>\n",
       "      <td>NaN</td>\n",
       "      <td>NaN</td>\n",
       "      <td>NaN</td>\n",
       "      <td>NaN</td>\n",
       "    </tr>\n",
       "  </tbody>\n",
       "</table>\n",
       "</div>"
      ],
      "text/plain": [
       "       STATION                     NAME  DATE   CDSD  DSND  DSNW  EMNT  EMSD  \\\n",
       "0  USC00188065  SAVAGE RIVER DAM, MD US  1950    NaN   NaN   NaN   NaN   NaN   \n",
       "1  USC00188065  SAVAGE RIVER DAM, MD US  1951    NaN   NaN   NaN   NaN   NaN   \n",
       "2  USC00188065  SAVAGE RIVER DAM, MD US  1952    NaN   NaN   NaN   NaN   NaN   \n",
       "3  USC00188065  SAVAGE RIVER DAM, MD US  1953  596.0   NaN   NaN   8.0   NaN   \n",
       "4  USC00188065  SAVAGE RIVER DAM, MD US  1954    NaN   NaN   NaN   NaN   NaN   \n",
       "\n",
       "   EMSN  EMXP  EMXT    HDSD   PRCP  SNOW  TAVG  TMAX  TMIN  \n",
       "0   NaN   NaN   NaN     NaN  38.05   NaN   NaN   NaN   NaN  \n",
       "1   NaN   NaN   NaN     NaN  41.11   NaN   NaN   NaN   NaN  \n",
       "2   NaN   NaN   NaN     NaN  38.73   NaN   NaN   NaN   NaN  \n",
       "3   NaN  1.34  98.0  5615.0  31.67   NaN  51.4  63.9  38.9  \n",
       "4   NaN   NaN   NaN  5710.0    NaN   NaN   NaN   NaN   NaN  "
      ]
     },
     "execution_count": 150,
     "metadata": {},
     "output_type": "execute_result"
    }
   ],
   "source": [
    "df3.head()                                   # Display first 5 rows"
   ]
  },
  {
   "cell_type": "code",
   "execution_count": 151,
   "metadata": {},
   "outputs": [
    {
     "data": {
      "text/html": [
       "<div>\n",
       "<style scoped>\n",
       "    .dataframe tbody tr th:only-of-type {\n",
       "        vertical-align: middle;\n",
       "    }\n",
       "\n",
       "    .dataframe tbody tr th {\n",
       "        vertical-align: top;\n",
       "    }\n",
       "\n",
       "    .dataframe thead th {\n",
       "        text-align: right;\n",
       "    }\n",
       "</style>\n",
       "<table border=\"1\" class=\"dataframe\">\n",
       "  <thead>\n",
       "    <tr style=\"text-align: right;\">\n",
       "      <th></th>\n",
       "      <th>STATION</th>\n",
       "      <th>NAME</th>\n",
       "      <th>DATE</th>\n",
       "      <th>CDSD</th>\n",
       "      <th>DSND</th>\n",
       "      <th>DSNW</th>\n",
       "      <th>EMNT</th>\n",
       "      <th>EMSD</th>\n",
       "      <th>EMSN</th>\n",
       "      <th>EMXP</th>\n",
       "      <th>EMXT</th>\n",
       "      <th>HDSD</th>\n",
       "      <th>PRCP</th>\n",
       "      <th>SNOW</th>\n",
       "      <th>TAVG</th>\n",
       "      <th>TMAX</th>\n",
       "      <th>TMIN</th>\n",
       "    </tr>\n",
       "  </thead>\n",
       "  <tbody>\n",
       "    <tr>\n",
       "      <th>130</th>\n",
       "      <td>USW00093721</td>\n",
       "      <td>BALTIMORE WASHINGTON INTERNATIONAL AIRPORT, MD US</td>\n",
       "      <td>2016</td>\n",
       "      <td>1512.0</td>\n",
       "      <td>14.0</td>\n",
       "      <td>4.0</td>\n",
       "      <td>8.0</td>\n",
       "      <td>26.0</td>\n",
       "      <td>25.5</td>\n",
       "      <td>2.61</td>\n",
       "      <td>100.0</td>\n",
       "      <td>4060.0</td>\n",
       "      <td>40.55</td>\n",
       "      <td>35.2</td>\n",
       "      <td>57.1</td>\n",
       "      <td>67.2</td>\n",
       "      <td>47.1</td>\n",
       "    </tr>\n",
       "    <tr>\n",
       "      <th>131</th>\n",
       "      <td>USW00093721</td>\n",
       "      <td>BALTIMORE WASHINGTON INTERNATIONAL AIRPORT, MD US</td>\n",
       "      <td>2017</td>\n",
       "      <td>1285.0</td>\n",
       "      <td>8.0</td>\n",
       "      <td>2.0</td>\n",
       "      <td>8.0</td>\n",
       "      <td>2.0</td>\n",
       "      <td>2.8</td>\n",
       "      <td>2.58</td>\n",
       "      <td>98.0</td>\n",
       "      <td>3913.0</td>\n",
       "      <td>38.30</td>\n",
       "      <td>7.4</td>\n",
       "      <td>57.4</td>\n",
       "      <td>67.3</td>\n",
       "      <td>47.4</td>\n",
       "    </tr>\n",
       "    <tr>\n",
       "      <th>132</th>\n",
       "      <td>USW00093721</td>\n",
       "      <td>BALTIMORE WASHINGTON INTERNATIONAL AIRPORT, MD US</td>\n",
       "      <td>2018</td>\n",
       "      <td>1579.0</td>\n",
       "      <td>7.0</td>\n",
       "      <td>5.0</td>\n",
       "      <td>1.0</td>\n",
       "      <td>4.0</td>\n",
       "      <td>4.7</td>\n",
       "      <td>4.79</td>\n",
       "      <td>99.0</td>\n",
       "      <td>4547.0</td>\n",
       "      <td>71.84</td>\n",
       "      <td>12.8</td>\n",
       "      <td>56.7</td>\n",
       "      <td>65.9</td>\n",
       "      <td>47.5</td>\n",
       "    </tr>\n",
       "    <tr>\n",
       "      <th>133</th>\n",
       "      <td>USW00093721</td>\n",
       "      <td>BALTIMORE WASHINGTON INTERNATIONAL AIRPORT, MD US</td>\n",
       "      <td>2019</td>\n",
       "      <td>1716.0</td>\n",
       "      <td>10.0</td>\n",
       "      <td>5.0</td>\n",
       "      <td>5.0</td>\n",
       "      <td>5.0</td>\n",
       "      <td>4.8</td>\n",
       "      <td>1.74</td>\n",
       "      <td>100.0</td>\n",
       "      <td>4375.0</td>\n",
       "      <td>38.15</td>\n",
       "      <td>16.9</td>\n",
       "      <td>58.0</td>\n",
       "      <td>68.0</td>\n",
       "      <td>48.1</td>\n",
       "    </tr>\n",
       "    <tr>\n",
       "      <th>134</th>\n",
       "      <td>USW00093721</td>\n",
       "      <td>BALTIMORE WASHINGTON INTERNATIONAL AIRPORT, MD US</td>\n",
       "      <td>2020</td>\n",
       "      <td>NaN</td>\n",
       "      <td>NaN</td>\n",
       "      <td>NaN</td>\n",
       "      <td>NaN</td>\n",
       "      <td>NaN</td>\n",
       "      <td>NaN</td>\n",
       "      <td>NaN</td>\n",
       "      <td>NaN</td>\n",
       "      <td>3958.0</td>\n",
       "      <td>NaN</td>\n",
       "      <td>NaN</td>\n",
       "      <td>NaN</td>\n",
       "      <td>NaN</td>\n",
       "      <td>NaN</td>\n",
       "    </tr>\n",
       "  </tbody>\n",
       "</table>\n",
       "</div>"
      ],
      "text/plain": [
       "         STATION                                               NAME  DATE  \\\n",
       "130  USW00093721  BALTIMORE WASHINGTON INTERNATIONAL AIRPORT, MD US  2016   \n",
       "131  USW00093721  BALTIMORE WASHINGTON INTERNATIONAL AIRPORT, MD US  2017   \n",
       "132  USW00093721  BALTIMORE WASHINGTON INTERNATIONAL AIRPORT, MD US  2018   \n",
       "133  USW00093721  BALTIMORE WASHINGTON INTERNATIONAL AIRPORT, MD US  2019   \n",
       "134  USW00093721  BALTIMORE WASHINGTON INTERNATIONAL AIRPORT, MD US  2020   \n",
       "\n",
       "       CDSD  DSND  DSNW  EMNT  EMSD  EMSN  EMXP   EMXT    HDSD   PRCP  SNOW  \\\n",
       "130  1512.0  14.0   4.0   8.0  26.0  25.5  2.61  100.0  4060.0  40.55  35.2   \n",
       "131  1285.0   8.0   2.0   8.0   2.0   2.8  2.58   98.0  3913.0  38.30   7.4   \n",
       "132  1579.0   7.0   5.0   1.0   4.0   4.7  4.79   99.0  4547.0  71.84  12.8   \n",
       "133  1716.0  10.0   5.0   5.0   5.0   4.8  1.74  100.0  4375.0  38.15  16.9   \n",
       "134     NaN   NaN   NaN   NaN   NaN   NaN   NaN    NaN  3958.0    NaN   NaN   \n",
       "\n",
       "     TAVG  TMAX  TMIN  \n",
       "130  57.1  67.2  47.1  \n",
       "131  57.4  67.3  47.4  \n",
       "132  56.7  65.9  47.5  \n",
       "133  58.0  68.0  48.1  \n",
       "134   NaN   NaN   NaN  "
      ]
     },
     "execution_count": 151,
     "metadata": {},
     "output_type": "execute_result"
    }
   ],
   "source": [
    "df3.tail()                                   # Display last 5 rows"
   ]
  },
  {
   "cell_type": "code",
   "execution_count": 152,
   "metadata": {},
   "outputs": [
    {
     "name": "stdout",
     "output_type": "stream",
     "text": [
      "STATION\n",
      "NAME\n",
      "DATE\n",
      "CDSD\n",
      "DSND\n",
      "DSNW\n",
      "EMNT\n",
      "EMSD\n",
      "EMSN\n",
      "EMXP\n",
      "EMXT\n",
      "HDSD\n",
      "PRCP\n",
      "SNOW\n",
      "TAVG\n",
      "TMAX\n",
      "TMIN\n"
     ]
    }
   ],
   "source": [
    "for col in df3.columns: \n",
    "    print(col)"
   ]
  },
  {
   "cell_type": "markdown",
   "metadata": {},
   "source": [
    "## Step 2:  Modify the dataframe "
   ]
  },
  {
   "cell_type": "markdown",
   "metadata": {},
   "source": [
    "### 2.1 Only keep desired fields"
   ]
  },
  {
   "cell_type": "markdown",
   "metadata": {},
   "source": [
    "### Important Fields\n",
    "\n",
    "### After analyzing the documentation that accompany the data file, only the following variables will be kept:\n",
    "\n",
    "1.  STATION  \n",
    "2.  NAME  \n",
    "3.  DATE:  year\n",
    "4.  PRCP:  precipitation in ?\n",
    "5.  SNOW:  snowfall in ?\n",
    "6.  TAVG:  average temperature for the year\n",
    "7.  TMIN:  min temp for the year\n",
    "8.  TMAX:  max temp for the year\n"
   ]
  },
  {
   "cell_type": "code",
   "execution_count": 153,
   "metadata": {},
   "outputs": [
    {
     "data": {
      "text/html": [
       "<div>\n",
       "<style scoped>\n",
       "    .dataframe tbody tr th:only-of-type {\n",
       "        vertical-align: middle;\n",
       "    }\n",
       "\n",
       "    .dataframe tbody tr th {\n",
       "        vertical-align: top;\n",
       "    }\n",
       "\n",
       "    .dataframe thead th {\n",
       "        text-align: right;\n",
       "    }\n",
       "</style>\n",
       "<table border=\"1\" class=\"dataframe\">\n",
       "  <thead>\n",
       "    <tr style=\"text-align: right;\">\n",
       "      <th></th>\n",
       "      <th>STATION</th>\n",
       "      <th>NAME</th>\n",
       "      <th>DATE</th>\n",
       "      <th>PRCP</th>\n",
       "      <th>SNOW</th>\n",
       "      <th>TAVG</th>\n",
       "      <th>TMAX</th>\n",
       "      <th>TMIN</th>\n",
       "    </tr>\n",
       "  </thead>\n",
       "  <tbody>\n",
       "    <tr>\n",
       "      <th>0</th>\n",
       "      <td>USC00188065</td>\n",
       "      <td>SAVAGE RIVER DAM, MD US</td>\n",
       "      <td>1950</td>\n",
       "      <td>38.05</td>\n",
       "      <td>NaN</td>\n",
       "      <td>NaN</td>\n",
       "      <td>NaN</td>\n",
       "      <td>NaN</td>\n",
       "    </tr>\n",
       "    <tr>\n",
       "      <th>1</th>\n",
       "      <td>USC00188065</td>\n",
       "      <td>SAVAGE RIVER DAM, MD US</td>\n",
       "      <td>1951</td>\n",
       "      <td>41.11</td>\n",
       "      <td>NaN</td>\n",
       "      <td>NaN</td>\n",
       "      <td>NaN</td>\n",
       "      <td>NaN</td>\n",
       "    </tr>\n",
       "    <tr>\n",
       "      <th>2</th>\n",
       "      <td>USC00188065</td>\n",
       "      <td>SAVAGE RIVER DAM, MD US</td>\n",
       "      <td>1952</td>\n",
       "      <td>38.73</td>\n",
       "      <td>NaN</td>\n",
       "      <td>NaN</td>\n",
       "      <td>NaN</td>\n",
       "      <td>NaN</td>\n",
       "    </tr>\n",
       "    <tr>\n",
       "      <th>3</th>\n",
       "      <td>USC00188065</td>\n",
       "      <td>SAVAGE RIVER DAM, MD US</td>\n",
       "      <td>1953</td>\n",
       "      <td>31.67</td>\n",
       "      <td>NaN</td>\n",
       "      <td>51.4</td>\n",
       "      <td>63.9</td>\n",
       "      <td>38.9</td>\n",
       "    </tr>\n",
       "    <tr>\n",
       "      <th>4</th>\n",
       "      <td>USC00188065</td>\n",
       "      <td>SAVAGE RIVER DAM, MD US</td>\n",
       "      <td>1954</td>\n",
       "      <td>NaN</td>\n",
       "      <td>NaN</td>\n",
       "      <td>NaN</td>\n",
       "      <td>NaN</td>\n",
       "      <td>NaN</td>\n",
       "    </tr>\n",
       "  </tbody>\n",
       "</table>\n",
       "</div>"
      ],
      "text/plain": [
       "       STATION                     NAME  DATE   PRCP  SNOW  TAVG  TMAX  TMIN\n",
       "0  USC00188065  SAVAGE RIVER DAM, MD US  1950  38.05   NaN   NaN   NaN   NaN\n",
       "1  USC00188065  SAVAGE RIVER DAM, MD US  1951  41.11   NaN   NaN   NaN   NaN\n",
       "2  USC00188065  SAVAGE RIVER DAM, MD US  1952  38.73   NaN   NaN   NaN   NaN\n",
       "3  USC00188065  SAVAGE RIVER DAM, MD US  1953  31.67   NaN  51.4  63.9  38.9\n",
       "4  USC00188065  SAVAGE RIVER DAM, MD US  1954    NaN   NaN   NaN   NaN   NaN"
      ]
     },
     "execution_count": 153,
     "metadata": {},
     "output_type": "execute_result"
    }
   ],
   "source": [
    "# Make new dataframe with desired fields\n",
    "\n",
    "temp_precip_df=pd.read_csv('2328476.csv', usecols=['STATION','NAME','DATE','PRCP','SNOW','TAVG','TMIN','TMAX'])\n",
    "temp_precip_df.head()"
   ]
  },
  {
   "cell_type": "markdown",
   "metadata": {},
   "source": [
    "### 2.2 Rename column"
   ]
  },
  {
   "cell_type": "code",
   "execution_count": 154,
   "metadata": {},
   "outputs": [
    {
     "data": {
      "text/html": [
       "<div>\n",
       "<style scoped>\n",
       "    .dataframe tbody tr th:only-of-type {\n",
       "        vertical-align: middle;\n",
       "    }\n",
       "\n",
       "    .dataframe tbody tr th {\n",
       "        vertical-align: top;\n",
       "    }\n",
       "\n",
       "    .dataframe thead th {\n",
       "        text-align: right;\n",
       "    }\n",
       "</style>\n",
       "<table border=\"1\" class=\"dataframe\">\n",
       "  <thead>\n",
       "    <tr style=\"text-align: right;\">\n",
       "      <th></th>\n",
       "      <th>STATION</th>\n",
       "      <th>NAME</th>\n",
       "      <th>YEAR</th>\n",
       "      <th>PRCP</th>\n",
       "      <th>SNOW</th>\n",
       "      <th>TAVG</th>\n",
       "      <th>TMAX</th>\n",
       "      <th>TMIN</th>\n",
       "    </tr>\n",
       "  </thead>\n",
       "  <tbody>\n",
       "    <tr>\n",
       "      <th>0</th>\n",
       "      <td>USC00188065</td>\n",
       "      <td>SAVAGE RIVER DAM, MD US</td>\n",
       "      <td>1950</td>\n",
       "      <td>38.05</td>\n",
       "      <td>NaN</td>\n",
       "      <td>NaN</td>\n",
       "      <td>NaN</td>\n",
       "      <td>NaN</td>\n",
       "    </tr>\n",
       "    <tr>\n",
       "      <th>1</th>\n",
       "      <td>USC00188065</td>\n",
       "      <td>SAVAGE RIVER DAM, MD US</td>\n",
       "      <td>1951</td>\n",
       "      <td>41.11</td>\n",
       "      <td>NaN</td>\n",
       "      <td>NaN</td>\n",
       "      <td>NaN</td>\n",
       "      <td>NaN</td>\n",
       "    </tr>\n",
       "    <tr>\n",
       "      <th>2</th>\n",
       "      <td>USC00188065</td>\n",
       "      <td>SAVAGE RIVER DAM, MD US</td>\n",
       "      <td>1952</td>\n",
       "      <td>38.73</td>\n",
       "      <td>NaN</td>\n",
       "      <td>NaN</td>\n",
       "      <td>NaN</td>\n",
       "      <td>NaN</td>\n",
       "    </tr>\n",
       "    <tr>\n",
       "      <th>3</th>\n",
       "      <td>USC00188065</td>\n",
       "      <td>SAVAGE RIVER DAM, MD US</td>\n",
       "      <td>1953</td>\n",
       "      <td>31.67</td>\n",
       "      <td>NaN</td>\n",
       "      <td>51.4</td>\n",
       "      <td>63.9</td>\n",
       "      <td>38.9</td>\n",
       "    </tr>\n",
       "    <tr>\n",
       "      <th>4</th>\n",
       "      <td>USC00188065</td>\n",
       "      <td>SAVAGE RIVER DAM, MD US</td>\n",
       "      <td>1954</td>\n",
       "      <td>NaN</td>\n",
       "      <td>NaN</td>\n",
       "      <td>NaN</td>\n",
       "      <td>NaN</td>\n",
       "      <td>NaN</td>\n",
       "    </tr>\n",
       "  </tbody>\n",
       "</table>\n",
       "</div>"
      ],
      "text/plain": [
       "       STATION                     NAME  YEAR   PRCP  SNOW  TAVG  TMAX  TMIN\n",
       "0  USC00188065  SAVAGE RIVER DAM, MD US  1950  38.05   NaN   NaN   NaN   NaN\n",
       "1  USC00188065  SAVAGE RIVER DAM, MD US  1951  41.11   NaN   NaN   NaN   NaN\n",
       "2  USC00188065  SAVAGE RIVER DAM, MD US  1952  38.73   NaN   NaN   NaN   NaN\n",
       "3  USC00188065  SAVAGE RIVER DAM, MD US  1953  31.67   NaN  51.4  63.9  38.9\n",
       "4  USC00188065  SAVAGE RIVER DAM, MD US  1954    NaN   NaN   NaN   NaN   NaN"
      ]
     },
     "execution_count": 154,
     "metadata": {},
     "output_type": "execute_result"
    }
   ],
   "source": [
    "# Change \"date\" to \"year\"\n",
    "\n",
    "temp_precip_df1=temp_precip_df.rename(columns={'DATE':'YEAR'})  \n",
    "temp_precip_df1.head()\n"
   ]
  },
  {
   "cell_type": "markdown",
   "metadata": {},
   "source": [
    "### 2.3 Isolate Baltimore data"
   ]
  },
  {
   "cell_type": "code",
   "execution_count": 155,
   "metadata": {},
   "outputs": [
    {
     "data": {
      "text/html": [
       "<div>\n",
       "<style scoped>\n",
       "    .dataframe tbody tr th:only-of-type {\n",
       "        vertical-align: middle;\n",
       "    }\n",
       "\n",
       "    .dataframe tbody tr th {\n",
       "        vertical-align: top;\n",
       "    }\n",
       "\n",
       "    .dataframe thead th {\n",
       "        text-align: right;\n",
       "    }\n",
       "</style>\n",
       "<table border=\"1\" class=\"dataframe\">\n",
       "  <thead>\n",
       "    <tr style=\"text-align: right;\">\n",
       "      <th></th>\n",
       "      <th>STATION</th>\n",
       "      <th>NAME</th>\n",
       "      <th>YEAR</th>\n",
       "      <th>PRCP</th>\n",
       "      <th>SNOW</th>\n",
       "      <th>TAVG</th>\n",
       "      <th>TMAX</th>\n",
       "      <th>TMIN</th>\n",
       "    </tr>\n",
       "  </thead>\n",
       "  <tbody>\n",
       "    <tr>\n",
       "      <th>64</th>\n",
       "      <td>USW00093721</td>\n",
       "      <td>BALTIMORE WASHINGTON INTERNATIONAL AIRPORT, MD US</td>\n",
       "      <td>1950</td>\n",
       "      <td>38.51</td>\n",
       "      <td>3.7</td>\n",
       "      <td>55.2</td>\n",
       "      <td>64.0</td>\n",
       "      <td>46.4</td>\n",
       "    </tr>\n",
       "    <tr>\n",
       "      <th>65</th>\n",
       "      <td>USW00093721</td>\n",
       "      <td>BALTIMORE WASHINGTON INTERNATIONAL AIRPORT, MD US</td>\n",
       "      <td>1951</td>\n",
       "      <td>45.83</td>\n",
       "      <td>8.6</td>\n",
       "      <td>55.5</td>\n",
       "      <td>65.6</td>\n",
       "      <td>45.4</td>\n",
       "    </tr>\n",
       "    <tr>\n",
       "      <th>66</th>\n",
       "      <td>USW00093721</td>\n",
       "      <td>BALTIMORE WASHINGTON INTERNATIONAL AIRPORT, MD US</td>\n",
       "      <td>1952</td>\n",
       "      <td>56.60</td>\n",
       "      <td>14.4</td>\n",
       "      <td>56.0</td>\n",
       "      <td>65.7</td>\n",
       "      <td>46.2</td>\n",
       "    </tr>\n",
       "    <tr>\n",
       "      <th>67</th>\n",
       "      <td>USW00093721</td>\n",
       "      <td>BALTIMORE WASHINGTON INTERNATIONAL AIRPORT, MD US</td>\n",
       "      <td>1953</td>\n",
       "      <td>48.27</td>\n",
       "      <td>11.9</td>\n",
       "      <td>57.0</td>\n",
       "      <td>67.4</td>\n",
       "      <td>46.6</td>\n",
       "    </tr>\n",
       "    <tr>\n",
       "      <th>68</th>\n",
       "      <td>USW00093721</td>\n",
       "      <td>BALTIMORE WASHINGTON INTERNATIONAL AIRPORT, MD US</td>\n",
       "      <td>1954</td>\n",
       "      <td>27.91</td>\n",
       "      <td>16.6</td>\n",
       "      <td>55.3</td>\n",
       "      <td>65.6</td>\n",
       "      <td>45.0</td>\n",
       "    </tr>\n",
       "  </tbody>\n",
       "</table>\n",
       "</div>"
      ],
      "text/plain": [
       "        STATION                                               NAME  YEAR  \\\n",
       "64  USW00093721  BALTIMORE WASHINGTON INTERNATIONAL AIRPORT, MD US  1950   \n",
       "65  USW00093721  BALTIMORE WASHINGTON INTERNATIONAL AIRPORT, MD US  1951   \n",
       "66  USW00093721  BALTIMORE WASHINGTON INTERNATIONAL AIRPORT, MD US  1952   \n",
       "67  USW00093721  BALTIMORE WASHINGTON INTERNATIONAL AIRPORT, MD US  1953   \n",
       "68  USW00093721  BALTIMORE WASHINGTON INTERNATIONAL AIRPORT, MD US  1954   \n",
       "\n",
       "     PRCP  SNOW  TAVG  TMAX  TMIN  \n",
       "64  38.51   3.7  55.2  64.0  46.4  \n",
       "65  45.83   8.6  55.5  65.6  45.4  \n",
       "66  56.60  14.4  56.0  65.7  46.2  \n",
       "67  48.27  11.9  57.0  67.4  46.6  \n",
       "68  27.91  16.6  55.3  65.6  45.0  "
      ]
     },
     "execution_count": 155,
     "metadata": {},
     "output_type": "execute_result"
    }
   ],
   "source": [
    "# Make a baltimore only df\n",
    "\n",
    "baltimore_df=temp_precip_df1[64:]                    \n",
    "baltimore_df.head()"
   ]
  },
  {
   "cell_type": "markdown",
   "metadata": {},
   "source": [
    "## Step 3:  Visualize Baltimore rainfall and temperature data"
   ]
  },
  {
   "cell_type": "markdown",
   "metadata": {},
   "source": [
    "### 3.1  Plot the temperature data"
   ]
  },
  {
   "cell_type": "code",
   "execution_count": 175,
   "metadata": {
    "scrolled": true
   },
   "outputs": [
    {
     "name": "stderr",
     "output_type": "stream",
     "text": [
      "<ipython-input-175-3ecce77a1ec4>:21: UserWarning: Matplotlib is currently using module://ipykernel.pylab.backend_inline, which is a non-GUI backend, so cannot show the figure.\n",
      "  fig.show()\n"
     ]
    },
    {
     "data": {
      "image/png": "[encoded data removed]",
      "text/plain": [
       "<Figure size 1440x1728 with 3 Axes>"
      ]
     },
     "metadata": {
      "needs_background": "light"
     },
     "output_type": "display_data"
    }
   ],
   "source": [
    "# Set up how plots will be arranged\n",
    "\n",
    "fig, ax_list = plt.subplots(3,1,figsize=(20,24))  \n",
    "\n",
    "\n",
    "# Make scatter plots for avg, min and max yearly temperature\n",
    "\n",
    "baltimore_df.plot.scatter('YEAR', 'TAVG', ax=ax_list[0])\n",
    "ax_list[0].set_title(\"Average Yearly Temperature at BWI\")\n",
    "ax_list[0].set_ylabel(\"deg F\")\n",
    "\n",
    "baltimore_df.plot.scatter('YEAR', 'TMIN', ax=ax_list[1])\n",
    "ax_list[1].set_title(\"Minimum Yearly Temperature at BWI\")\n",
    "ax_list[1].set_ylabel(\"deg F\")\n",
    "\n",
    "baltimore_df.plot.scatter('YEAR', 'TMAX', ax=ax_list[2])\n",
    "ax_list[2].set_title(\"Maximum Yearly Temperature at BWI\")\n",
    "ax_list[2].set_ylabel(\"deg F\")\n",
    "\n",
    "\n",
    "fig.show()"
   ]
  },
  {
   "cell_type": "markdown",
   "metadata": {},
   "source": [
    "### 3.2 Plot the precipitation data"
   ]
  },
  {
   "cell_type": "code",
   "execution_count": 159,
   "metadata": {},
   "outputs": [
    {
     "name": "stderr",
     "output_type": "stream",
     "text": [
      "<ipython-input-159-7f5e509315b6>:9: UserWarning: Matplotlib is currently using module://ipykernel.pylab.backend_inline, which is a non-GUI backend, so cannot show the figure.\n",
      "  fig.show()\n"
     ]
    },
    {
     "data": {
      "image/png": "[encoded data removed]",
      "text/plain": [
       "<Figure size 1440x576 with 1 Axes>"
      ]
     },
     "metadata": {
      "needs_background": "light"
     },
     "output_type": "display_data"
    }
   ],
   "source": [
    "fig, ax_list = plt.subplots(figsize=(20,8))                           # Make a scatter plot of the baltimore precip\n",
    "\n",
    "\n",
    "ax_list.scatter(baltimore_df[\"YEAR\"], baltimore_df[\"PRCP\"])\n",
    "ax_list.set_title(\"Yearly Precipiation Totals at BWI\")\n",
    "ax_list.set_xlabel(\"Year\")\n",
    "ax_list.set_ylabel(\"Precipitation in inches\")\n",
    "\n",
    "fig.show()"
   ]
  },
  {
   "cell_type": "markdown",
   "metadata": {},
   "source": [
    "### Observation:  There does seem to be an upward trend for Baltimore's precipitation and temperature data over time.  "
   ]
  },
  {
   "cell_type": "markdown",
   "metadata": {},
   "source": [
    "## Step 4:  Visualize Western, MD rainfall and temperature data"
   ]
  },
  {
   "cell_type": "markdown",
   "metadata": {},
   "source": [
    "### 4.1 Isolate Western, MD data "
   ]
  },
  {
   "cell_type": "code",
   "execution_count": 160,
   "metadata": {},
   "outputs": [
    {
     "data": {
      "text/html": [
       "<div>\n",
       "<style scoped>\n",
       "    .dataframe tbody tr th:only-of-type {\n",
       "        vertical-align: middle;\n",
       "    }\n",
       "\n",
       "    .dataframe tbody tr th {\n",
       "        vertical-align: top;\n",
       "    }\n",
       "\n",
       "    .dataframe thead th {\n",
       "        text-align: right;\n",
       "    }\n",
       "</style>\n",
       "<table border=\"1\" class=\"dataframe\">\n",
       "  <thead>\n",
       "    <tr style=\"text-align: right;\">\n",
       "      <th></th>\n",
       "      <th>STATION</th>\n",
       "      <th>NAME</th>\n",
       "      <th>YEAR</th>\n",
       "      <th>PRCP</th>\n",
       "      <th>SNOW</th>\n",
       "      <th>TAVG</th>\n",
       "      <th>TMAX</th>\n",
       "      <th>TMIN</th>\n",
       "    </tr>\n",
       "  </thead>\n",
       "  <tbody>\n",
       "    <tr>\n",
       "      <th>0</th>\n",
       "      <td>USC00188065</td>\n",
       "      <td>SAVAGE RIVER DAM, MD US</td>\n",
       "      <td>1950</td>\n",
       "      <td>38.05</td>\n",
       "      <td>NaN</td>\n",
       "      <td>NaN</td>\n",
       "      <td>NaN</td>\n",
       "      <td>NaN</td>\n",
       "    </tr>\n",
       "    <tr>\n",
       "      <th>1</th>\n",
       "      <td>USC00188065</td>\n",
       "      <td>SAVAGE RIVER DAM, MD US</td>\n",
       "      <td>1951</td>\n",
       "      <td>41.11</td>\n",
       "      <td>NaN</td>\n",
       "      <td>NaN</td>\n",
       "      <td>NaN</td>\n",
       "      <td>NaN</td>\n",
       "    </tr>\n",
       "    <tr>\n",
       "      <th>2</th>\n",
       "      <td>USC00188065</td>\n",
       "      <td>SAVAGE RIVER DAM, MD US</td>\n",
       "      <td>1952</td>\n",
       "      <td>38.73</td>\n",
       "      <td>NaN</td>\n",
       "      <td>NaN</td>\n",
       "      <td>NaN</td>\n",
       "      <td>NaN</td>\n",
       "    </tr>\n",
       "    <tr>\n",
       "      <th>3</th>\n",
       "      <td>USC00188065</td>\n",
       "      <td>SAVAGE RIVER DAM, MD US</td>\n",
       "      <td>1953</td>\n",
       "      <td>31.67</td>\n",
       "      <td>NaN</td>\n",
       "      <td>51.4</td>\n",
       "      <td>63.9</td>\n",
       "      <td>38.9</td>\n",
       "    </tr>\n",
       "    <tr>\n",
       "      <th>4</th>\n",
       "      <td>USC00188065</td>\n",
       "      <td>SAVAGE RIVER DAM, MD US</td>\n",
       "      <td>1954</td>\n",
       "      <td>NaN</td>\n",
       "      <td>NaN</td>\n",
       "      <td>NaN</td>\n",
       "      <td>NaN</td>\n",
       "      <td>NaN</td>\n",
       "    </tr>\n",
       "  </tbody>\n",
       "</table>\n",
       "</div>"
      ],
      "text/plain": [
       "       STATION                     NAME  YEAR   PRCP  SNOW  TAVG  TMAX  TMIN\n",
       "0  USC00188065  SAVAGE RIVER DAM, MD US  1950  38.05   NaN   NaN   NaN   NaN\n",
       "1  USC00188065  SAVAGE RIVER DAM, MD US  1951  41.11   NaN   NaN   NaN   NaN\n",
       "2  USC00188065  SAVAGE RIVER DAM, MD US  1952  38.73   NaN   NaN   NaN   NaN\n",
       "3  USC00188065  SAVAGE RIVER DAM, MD US  1953  31.67   NaN  51.4  63.9  38.9\n",
       "4  USC00188065  SAVAGE RIVER DAM, MD US  1954    NaN   NaN   NaN   NaN   NaN"
      ]
     },
     "execution_count": 160,
     "metadata": {},
     "output_type": "execute_result"
    }
   ],
   "source": [
    "savage_df=temp_precip_df1[:63]                   # Make a df of just Savage River Dam, MD data\n",
    "savage_df.head()\n"
   ]
  },
  {
   "cell_type": "markdown",
   "metadata": {},
   "source": [
    "### 4.2 Plot the temperature data"
   ]
  },
  {
   "cell_type": "code",
   "execution_count": 176,
   "metadata": {},
   "outputs": [
    {
     "name": "stderr",
     "output_type": "stream",
     "text": [
      "<ipython-input-176-ddb5c9b0e1d6>:21: UserWarning: Matplotlib is currently using module://ipykernel.pylab.backend_inline, which is a non-GUI backend, so cannot show the figure.\n",
      "  fig.show()\n"
     ]
    },
    {
     "data": {
      "image/png": "[encoded data removed]",
      "text/plain": [
       "<Figure size 1440x1728 with 3 Axes>"
      ]
     },
     "metadata": {
      "needs_background": "light"
     },
     "output_type": "display_data"
    }
   ],
   "source": [
    "# Set up how plots will be arranged\n",
    "\n",
    "fig, ax_list = plt.subplots(3,1,figsize=(20,24))  \n",
    "\n",
    "\n",
    "# Make scatter plots for avg, min and max yearly temperature\n",
    "\n",
    "savage_df.plot.scatter('YEAR', 'TAVG', ax=ax_list[0])\n",
    "ax_list[0].set_title(\"Average Yearly Temperature at Savage River Dam, MD\")\n",
    "ax_list[0].set_ylabel(\"deg F\")\n",
    "\n",
    "savage_df.plot.scatter('YEAR', 'TMIN', ax=ax_list[1])\n",
    "ax_list[1].set_title(\"Minimum Yearly Temperature at Savage River Dam, MD\")\n",
    "ax_list[1].set_ylabel(\"deg F\")\n",
    "\n",
    "savage_df.plot.scatter('YEAR', 'TMAX', ax=ax_list[2])\n",
    "ax_list[2].set_title(\"Maximum Yearly Temperature at Savage River Dam, MD\")\n",
    "ax_list[2].set_ylabel(\"deg F\")\n",
    "\n",
    "\n",
    "fig.show()\n",
    "\n"
   ]
  },
  {
   "cell_type": "markdown",
   "metadata": {},
   "source": [
    "### 4.3 Plot the yearly precipitation data"
   ]
  },
  {
   "cell_type": "code",
   "execution_count": 164,
   "metadata": {},
   "outputs": [
    {
     "name": "stderr",
     "output_type": "stream",
     "text": [
      "<ipython-input-164-b6e4b53b0c0e>:8: UserWarning: Matplotlib is currently using module://ipykernel.pylab.backend_inline, which is a non-GUI backend, so cannot show the figure.\n",
      "  fig.show()\n"
     ]
    },
    {
     "data": {
      "image/png": "[encoded data removed]",
      "text/plain": [
       "<Figure size 1440x576 with 1 Axes>"
      ]
     },
     "metadata": {
      "needs_background": "light"
     },
     "output_type": "display_data"
    }
   ],
   "source": [
    "fig, ax_list = plt.subplots(figsize=(20,8))                # Make a scatter plot of the Savage River Dam, MD precip\n",
    "\n",
    "ax_list.scatter(savage_df[\"YEAR\"], savage_df[\"PRCP\"])\n",
    "ax_list.set_title(\"Yearly Precipiation Totals at Savage River Dam, MD\")\n",
    "ax_list.set_xlabel(\"Year\")\n",
    "ax_list.set_ylabel(\"Precipitation in inches\")\n",
    "\n",
    "fig.show()"
   ]
  },
  {
   "cell_type": "markdown",
   "metadata": {},
   "source": [
    "### Observation:  I don't think the upward trend as clear as it is with Baltimore, so maybe population density does play a role. "
   ]
  },
  {
   "cell_type": "markdown",
   "metadata": {},
   "source": [
    "## Conclusion: I do believe my analysis verfies climate models.  There is an increase in the number of tornadoes, amount of precipitation, and temperature nationally.  The comparison between a densely and sparsely populated region (with increased precipitation and temperature more apparent in the former) indicates that perhaps this is due to human impact."
   ]
  },
  {
   "cell_type": "markdown",
   "metadata": {},
   "source": [
    "# The End"
   ]
  },
  {
   "cell_type": "code",
   "execution_count": null,
   "metadata": {},
   "outputs": [],
   "source": []
  }
 ],
 "metadata": {
  "kernelspec": {
   "display_name": "Python 3",
   "language": "python",
   "name": "python3"
  },
  "language_info": {
   "codemirror_mode": {
    "name": "ipython",
    "version": 3
   },
   "file_extension": ".py",
   "mimetype": "text/x-python",
   "name": "python",
   "nbconvert_exporter": "python",
   "pygments_lexer": "ipython3",
   "version": "3.8.3"
  }
 },
 "nbformat": 4,
 "nbformat_minor": 4
}
